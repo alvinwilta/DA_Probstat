{
 "cells": [
  {
   "cell_type": "markdown",
   "metadata": {
    "id": "vzuT5WAUV1rS"
   },
   "source": [
    "## TUGAS BESAR PROBABILITAS STATISTIKA IF2220\n",
    "\n",
    "### Dibuat Oleh:\n",
    "#### Hera Shafira - 13519131\n",
    "#### Alvin Wilta - 13519163"
   ]
  },
  {
   "cell_type": "markdown",
   "metadata": {
    "id": "rAtpHXmiV1rn"
   },
   "source": [
    "# Spesifikasi Tugas\n",
    "### 1. Menulis deskripsi statistika (Descriptive Statistics) dari semua kolom pada data yang bersifat\n",
    "numerik, terdiri dari mean, median, modus, standar deviasi, variansi, range, nilai minimum,\n",
    "maksimum, kuartil, IQR, skewness dan kurtosis. Boleh juga ditambahkan deskripsi lain.\n",
    "### 2. Membuat Visualisasi plot distribusi, dalam bentuk histogram dan boxplot untuk setiap\n",
    "kolom numerik. Berikan uraian penjelasan kondisi setiap kolom berdasarkan kedua plot\n",
    "tersebut.\n",
    "### 3. Menentukan setiap kolom numerik berdistribusi normal atau tidak. \n",
    "Gunakan normality test yang dikaitkan dengan histogram plot.\n",
    "### 4. Melakukan test hipotesis 1 sampel, dengan menuliskan 6 langkah testing dan menampilkan\n",
    "juga boxplotnya untuk kolom/bagian yang bersesuaian.\n",
    "    a. Nilai rata-rata Daerah di atas 4700?\n",
    "    b. Nilai Rata-rata Sumbu Utama tidak sama dengan 116?\n",
    "    c. Nilai Rata-rata 20 baris pertama kolom Sumbu Kecil bukan 50?\n",
    "    d. Proporsi nilai Diameter yang lebih dari 85, adalah tidak sama dengan 15% ?\n",
    "    e. Proporsi nilai Keliling yang kurang dari 100, adalah kurang dari 5% ?\n",
    "### 5. Melakukan test hipotesis 2 sampel, dengan menuliskan 6 langkah testing dan menampilkan\n",
    "juga boxplotnya untuk kolom/bagian yang bersesuaian.\n",
    "    a. Data kolom AreaBulatan dibagi 2 sama rata: bagian awal dan bagian akhir kolom.\n",
    "        Benarkah rata-rata kedua bagian tersebut sama?\n",
    "    b. Data kolom Kadar Air dibagi 2 sama rata: bagian awal dan bagian akhir kolom. Benarkah\n",
    "        rata-rata bagian awal lebih besar dari pada bagian akhir sebesar 0.2?\n",
    "    c. Rata-rata 20 baris pertama kolom Bulatan sama dengan 20 baris terakhirnya?\n",
    "    d. Proporsi nilai bagian awal Ransum yang lebih dari 2, adalah lebih besar daripada,\n",
    "        proporsi nilai yang sama di bagian akhir Ransum?\n",
    "    e. Bagian awal kolom Diameter memiliki variansi yang sama dengan bagian akhirnya?\n",
    "### 6. Test korelasi: tentukan apakah setiap kolom non-target berkorelasi dengan kolom target,\n",
    "dengan menggambarkan juga scatter plot nya. Gunakan correlation test."
   ]
  },
  {
   "cell_type": "code",
   "execution_count": 1,
   "metadata": {},
   "outputs": [],
   "source": [
    "#!pip install numpy\n",
    "#!pip install pandas\n",
    "#!pip install matplotlib\n",
    "#!pip install seaborn\n",
    "#!pip install pylatex"
   ]
  },
  {
   "cell_type": "code",
   "execution_count": 2,
   "metadata": {
    "_cell_guid": "b1076dfc-b9ad-4769-8c92-a6c4dae69d19",
    "_uuid": "8f2839f25d086af736a60e9eeb907d3b93b6e0e5",
    "id": "2DqgNxoHV1rv"
   },
   "outputs": [],
   "source": [
    "import numpy as np # linear algebra\n",
    "import pandas as pd # data processing, CSV file I/O\n",
    "import matplotlib.pyplot as plt # data visualization with graph etc\n",
    "import seaborn as sns # statistical data visualization\n",
    "from scipy import stats #statistical data functions\n",
    "from scipy.stats import norm # solving t value for critical value\n",
    "from scipy.stats import f as fff # f-test\n",
    "import scipy.stats as stats # statistical functions\n",
    "import seaborn as sb # graphing tool\n",
    "import math # math functions\n",
    "\n",
    "df = pd.read_csv(r\"C:\\Users\\Lenovo X1 Carbon\\Alvin\\Kuliah\\Probstat\\Gandum.csv\", names = [\"id\",\"Daerah\",\"SumbuUtama\",\"SumbuKecil\",\"Keunikan\",\"AreaBulatan\",\"Diameter\",\"KadarAir\",\"Keliling\",\"Bulatan\",\"Ransum\",\"Kelas\"])\n",
    "df2 = df.copy()\n",
    "df2.drop(['id', 'Kelas'], axis='columns', inplace=True)"
   ]
  },
  {
   "cell_type": "markdown",
   "metadata": {},
   "source": [
    "# Bagian 1\n",
    " Menentukan Mean, Median, Modus, Standar Deviasi, Variansi, Range, IQR, Min, Max, Quartile, Skewness, dan Kurtosis dari data yang diberikan.\n",
    " \n",
    " Atribut (Kolom) dari id dan kelas tidak dibuat rata-rata dan \n",
    " \n",
    " Modus hanya dibuat pada kelas karena modus pada atribut (kolom) lainnya kurang memiliki makna data yang berarti."
   ]
  },
  {
   "cell_type": "code",
   "execution_count": 3,
   "metadata": {
    "colab": {
     "base_uri": "https://localhost:8080/"
    },
    "id": "Am19CvW8V1r4",
    "outputId": "2291573d-e7a6-48da-8c4d-ecf2bd53134f"
   },
   "outputs": [
    {
     "name": "stdout",
     "output_type": "stream",
     "text": [
      "Mean: \n",
      "id              250.500000\n",
      "Daerah         4801.246000\n",
      "SumbuUtama      116.045171\n",
      "SumbuKecil       53.715246\n",
      "Keunikan          0.878764\n",
      "AreaBulatan    4937.048000\n",
      "Diameter         77.771158\n",
      "KadarAir          0.648372\n",
      "Keliling        281.479722\n",
      "Bulatan           0.761737\n",
      "Ransum            2.150915\n",
      "Kelas             1.502000\n",
      "dtype: float64\n",
      "\n",
      "Standar deviasi: \n",
      "id              144.481833\n",
      "Daerah          986.395491\n",
      "SumbuUtama       18.282626\n",
      "SumbuKecil        4.071075\n",
      "Keunikan          0.036586\n",
      "AreaBulatan    1011.696255\n",
      "Diameter          8.056867\n",
      "KadarAir          0.094367\n",
      "Keliling         37.335402\n",
      "Bulatan           0.061702\n",
      "Ransum            0.249767\n",
      "Kelas             0.500497\n",
      "dtype: float64\n"
     ]
    }
   ],
   "source": [
    "# mean, median, modus, standar deviasi, variansi, range, nilai minimum, maksimum, kuartil, IQR, skewness dan kurtosis\n",
    "# Disini id dan Kelas tidak dibutuhkan rata-ratanya, sehingga dibuang.\n",
    "print('Mean: ')\n",
    "print(str(df.mean(axis=0)))\n",
    "print()\n",
    "# Modus tidak akan terpakai karena data yang dihasilkan trivial\n",
    "print('Standar deviasi: ')\n",
    "print(str(df.std()))"
   ]
  },
  {
   "cell_type": "code",
   "execution_count": 4,
   "metadata": {},
   "outputs": [
    {
     "name": "stdout",
     "output_type": "stream",
     "text": [
      "                  id       Daerah  SumbuUtama  SumbuKecil    Keunikan  \\\n",
      "count     500.000000   500.000000  500.000000  500.000000  500.000000   \n",
      "mean      250.500000  4801.246000  116.045171   53.715246    0.878764   \n",
      "std       144.481833   986.395491   18.282626    4.071075    0.036586   \n",
      "min         1.000000  2522.000000   74.133114   39.906517    0.719916   \n",
      "25%       125.750000  4042.750000  104.116098   51.193576    0.863676   \n",
      "50%       250.500000  4735.000000  115.405140   53.731199    0.890045   \n",
      "75%       375.250000  5495.500000  129.046792   56.325158    0.907578   \n",
      "max       500.000000  7453.000000  227.928583   68.977700    0.914001   \n",
      "Skewness    0.000000     0.238144    0.761529   -0.010828   -1.623472   \n",
      "Kurtosis   -1.200000    -0.434631    4.330534    0.475568    2.917256   \n",
      "IQR       249.500000  1452.750000   24.930694    5.131582    0.043902   \n",
      "Range     499.000000  4931.000000  153.795469   29.071182    0.194085   \n",
      "\n",
      "          AreaBulatan    Diameter    KadarAir    Keliling     Bulatan  \\\n",
      "count      500.000000  500.000000  500.000000  500.000000  500.000000   \n",
      "mean      4937.048000   77.771158    0.648372  281.479722    0.761737   \n",
      "std       1011.696255    8.056867    0.094367   37.335402    0.061702   \n",
      "min       2579.000000   56.666658    0.409927  197.015000    0.174590   \n",
      "25%       4170.250000   71.745308    0.572632  255.883000    0.731991   \n",
      "50%       4857.000000   77.645277    0.626117  280.045500    0.761288   \n",
      "75%       5654.250000   83.648598    0.726633  306.062500    0.796361   \n",
      "max       7720.000000   97.413830    0.878899  488.837000    0.904748   \n",
      "Skewness     0.257560    0.002725    0.493661    0.733627   -3.599237   \n",
      "Kurtosis    -0.409685   -0.466455   -0.740326    2.272685   29.975096   \n",
      "IQR       1484.000000   11.903290    0.154001   50.179500    0.064370   \n",
      "Range     5141.000000   40.747172    0.468972  291.822000    0.730158   \n",
      "\n",
      "              Ransum       Kelas  \n",
      "count     500.000000  500.000000  \n",
      "mean        2.150915    1.502000  \n",
      "std         0.249767    0.500497  \n",
      "min         1.440796    1.000000  \n",
      "25%         1.983939    1.000000  \n",
      "50%         2.193599    2.000000  \n",
      "75%         2.381612    2.000000  \n",
      "max         2.464809    2.000000  \n",
      "Skewness   -0.658188   -0.008024  \n",
      "Kurtosis   -0.428656   -2.007984  \n",
      "IQR         0.397673    1.000000  \n",
      "Range       1.024013    1.000000  \n"
     ]
    }
   ],
   "source": [
    "out = df.describe()\n",
    "skew = df.skew()\n",
    "skew.name=\"Skewness\"\n",
    "out = out.append(skew)\n",
    "kurt = df.kurtosis()\n",
    "kurt.name=\"Kurtosis\"\n",
    "out = out.append(kurt)\n",
    "iqr = df.quantile(0.75) - df.quantile(0.25)\n",
    "iqr.name = \"IQR\"\n",
    "out = out.append(iqr)\n",
    "ranges = df.max() - df.min()\n",
    "ranges.name = \"Range\"\n",
    "out = out.append(ranges)\n",
    "print(out)"
   ]
  },
  {
   "cell_type": "markdown",
   "metadata": {},
   "source": [
    "# Bagian 2\n",
    "\n",
    "Membuat Visualisasi plot distribusi, dalam bentuk histogram dan boxplot untuk setiap\n",
    "kolom numerik. Berikan uraian penjelasan kondisi setiap kolom berdasarkan kedua plot tersebut."
   ]
  },
  {
   "cell_type": "code",
   "execution_count": 5,
   "metadata": {
    "scrolled": false
   },
   "outputs": [
    {
     "data": {
      "text/plain": [
       "<AxesSubplot:ylabel='Frequency'>"
      ]
     },
     "execution_count": 5,
     "metadata": {},
     "output_type": "execute_result"
    },
    {
     "data": {
      "image/png": "[encoded data removed]",
      "text/plain": [
       "<Figure size 432x288 with 1 Axes>"
      ]
     },
     "metadata": {
      "needs_background": "light"
     },
     "output_type": "display_data"
    }
   ],
   "source": [
    "df.Daerah.plot.hist(bins=100)"
   ]
  },
  {
   "cell_type": "code",
   "execution_count": 6,
   "metadata": {},
   "outputs": [
    {
     "data": {
      "text/plain": [
       "<AxesSubplot:>"
      ]
     },
     "execution_count": 6,
     "metadata": {},
     "output_type": "execute_result"
    },
    {
     "data": {
      "image/png": "[encoded data removed]",
      "text/plain": [
       "<Figure size 432x288 with 1 Axes>"
      ]
     },
     "metadata": {
      "needs_background": "light"
     },
     "output_type": "display_data"
    }
   ],
   "source": [
    "df.boxplot([\"Daerah\"])"
   ]
  },
  {
   "cell_type": "markdown",
   "metadata": {},
   "source": [
    "### Penjelasan :\n",
    "Berdasarkan plotting di atas, dapat terlihat bahwa distribusi ini berbentuk positively skewed yang berarti sebagian besar data berada di nilai rendah. Kemudian, distribusi ini termasuk distribusi yang platykurtic karena memiliki nilai kurtosis < 3. Mean atau nilai rata-rata dari distribusi ini bernilai 4801.246 dengan standar deviasi bernilai 986.395491. Kemudian, nilai maksimum dari distribusi ini adalah 7453 dengan nilai minimum sebesar 2522 sehingga jangkauan data dari distribusi ini bernilai 4931 dengan IQR yang bernilai 1452.75. persebaran ini tidak memiliki pencilan."
   ]
  },
  {
   "cell_type": "markdown",
   "metadata": {},
   "source": [
    "## SumbuUtama"
   ]
  },
  {
   "cell_type": "code",
   "execution_count": 7,
   "metadata": {},
   "outputs": [
    {
     "data": {
      "text/plain": [
       "<AxesSubplot:ylabel='Frequency'>"
      ]
     },
     "execution_count": 7,
     "metadata": {},
     "output_type": "execute_result"
    },
    {
     "data": {
      "image/png": "[encoded data removed]",
      "text/plain": [
       "<Figure size 432x288 with 1 Axes>"
      ]
     },
     "metadata": {
      "needs_background": "light"
     },
     "output_type": "display_data"
    }
   ],
   "source": [
    "df.SumbuUtama.plot.hist(bins=100)"
   ]
  },
  {
   "cell_type": "code",
   "execution_count": 8,
   "metadata": {},
   "outputs": [
    {
     "data": {
      "text/plain": [
       "<AxesSubplot:>"
      ]
     },
     "execution_count": 8,
     "metadata": {},
     "output_type": "execute_result"
    },
    {
     "data": {
      "image/png": "[encoded data removed]",
      "text/plain": [
       "<Figure size 432x288 with 1 Axes>"
      ]
     },
     "metadata": {
      "needs_background": "light"
     },
     "output_type": "display_data"
    }
   ],
   "source": [
    "df.boxplot([\"SumbuUtama\"])"
   ]
  },
  {
   "cell_type": "markdown",
   "metadata": {},
   "source": [
    "### Penjelasan :\n",
    "Berdasarkan plotting di atas, dapat terlihat bahwa distribusi ini berbentuk positively skewed yang berarti sebagian besar data berada di nilai rendah. Kemudian, distribusi ini termasuk distribusi yang leptokurtic karena memiliki nilai kurtosis > 3. Mean atau nilai rata-rata dari distribusi ini bernilai 116.045171 dengan standar deviasi bernilai 18.282626. Kemudian, nilai maksimum dari distribusi ini adalah 227.928583 dengan nilai minimum sebesar 74.133114 sehingga jangkauan data dari distribusi ini bernilai 153.795469 dengan IQR yang bernilai 24.930694. persebaran ini memiliki pencilan pada range data 220 hingga 240."
   ]
  },
  {
   "cell_type": "markdown",
   "metadata": {},
   "source": [
    "## SumbuKecil"
   ]
  },
  {
   "cell_type": "code",
   "execution_count": 9,
   "metadata": {
    "scrolled": true
   },
   "outputs": [
    {
     "data": {
      "text/plain": [
       "<AxesSubplot:ylabel='Frequency'>"
      ]
     },
     "execution_count": 9,
     "metadata": {},
     "output_type": "execute_result"
    },
    {
     "data": {
      "image/png": "[encoded data removed]",
      "text/plain": [
       "<Figure size 432x288 with 1 Axes>"
      ]
     },
     "metadata": {
      "needs_background": "light"
     },
     "output_type": "display_data"
    }
   ],
   "source": [
    "df.SumbuKecil.plot.hist(bins=100)"
   ]
  },
  {
   "cell_type": "code",
   "execution_count": 10,
   "metadata": {},
   "outputs": [
    {
     "data": {
      "text/plain": [
       "<AxesSubplot:>"
      ]
     },
     "execution_count": 10,
     "metadata": {},
     "output_type": "execute_result"
    },
    {
     "data": {
      "image/png": "[encoded data removed]",
      "text/plain": [
       "<Figure size 432x288 with 1 Axes>"
      ]
     },
     "metadata": {
      "needs_background": "light"
     },
     "output_type": "display_data"
    }
   ],
   "source": [
    "df.boxplot([\"SumbuKecil\"])"
   ]
  },
  {
   "cell_type": "markdown",
   "metadata": {},
   "source": [
    "### Penjelasan :\n",
    "Berdasarkan plotting di atas, dapat terlihat bahwa distribusi ini berbentuk negatively skewed yang berarti sebagian besar data berada di nilai tinggi. Kemudian, distribusi ini termasuk distribusi yang platykurtic karena memiliki nilai kurtosis < 3. Mean atau nilai rata-rata dari distribusi ini bernilai 53.715246 dengan standar deviasi bernilai 4.071075. Kemudian, nilai maksimum dari distribusi ini adalah 68.977700 dengan nilai minimum sebesar 39.906517 sehingga jangkauan data dari distribusi ini bernilai 29.071182 dengan IQR yang bernilai 5.131582. persebaran ini memiliki pencilan pada range data 40 hingga 45 dan 65 hingga 70."
   ]
  },
  {
   "cell_type": "markdown",
   "metadata": {},
   "source": [
    "## Keunikan"
   ]
  },
  {
   "cell_type": "code",
   "execution_count": 11,
   "metadata": {},
   "outputs": [
    {
     "data": {
      "text/plain": [
       "<AxesSubplot:ylabel='Frequency'>"
      ]
     },
     "execution_count": 11,
     "metadata": {},
     "output_type": "execute_result"
    },
    {
     "data": {
      "image/png": "[encoded data removed]",
      "text/plain": [
       "<Figure size 432x288 with 1 Axes>"
      ]
     },
     "metadata": {
      "needs_background": "light"
     },
     "output_type": "display_data"
    }
   ],
   "source": [
    "df.Keunikan.plot.hist(bins=100)"
   ]
  },
  {
   "cell_type": "code",
   "execution_count": 12,
   "metadata": {},
   "outputs": [
    {
     "data": {
      "text/plain": [
       "<AxesSubplot:>"
      ]
     },
     "execution_count": 12,
     "metadata": {},
     "output_type": "execute_result"
    },
    {
     "data": {
      "image/png": "[encoded data removed]",
      "text/plain": [
       "<Figure size 432x288 with 1 Axes>"
      ]
     },
     "metadata": {
      "needs_background": "light"
     },
     "output_type": "display_data"
    }
   ],
   "source": [
    "df.boxplot([\"Keunikan\"])"
   ]
  },
  {
   "cell_type": "markdown",
   "metadata": {},
   "source": [
    "### Penjelasan :\n",
    "Berdasarkan plotting di atas, dapat terlihat bahwa distribusi ini berbentuk negatively skewed yang berarti sebagian besar data berada di nilai tinggi. Kemudian, distribusi ini termasuk distribusi yang platykurtic karena memiliki nilai kurtosis < 3. Mean atau nilai rata-rata dari distribusi ini bernilai 0.878764 dengan standar deviasi bernilai 0.036586. Kemudian, nilai maksimum dari distribusi ini adalah 0.914001 dengan nilai minimum sebesar 0.719916 sehingga jangkauan data dari distribusi ini bernilai 0.194085 dengan IQR yang bernilai 0.043902. persebaran ini memiliki pencilan pada range data 0.700 hingga 0.800."
   ]
  },
  {
   "cell_type": "markdown",
   "metadata": {},
   "source": [
    "## AreaBulatan"
   ]
  },
  {
   "cell_type": "code",
   "execution_count": 13,
   "metadata": {},
   "outputs": [
    {
     "data": {
      "text/plain": [
       "<AxesSubplot:ylabel='Frequency'>"
      ]
     },
     "execution_count": 13,
     "metadata": {},
     "output_type": "execute_result"
    },
    {
     "data": {
      "image/png": "[encoded data removed]",
      "text/plain": [
       "<Figure size 432x288 with 1 Axes>"
      ]
     },
     "metadata": {
      "needs_background": "light"
     },
     "output_type": "display_data"
    }
   ],
   "source": [
    "df.AreaBulatan.plot.hist(bins=100)"
   ]
  },
  {
   "cell_type": "code",
   "execution_count": 14,
   "metadata": {},
   "outputs": [
    {
     "data": {
      "text/plain": [
       "<AxesSubplot:>"
      ]
     },
     "execution_count": 14,
     "metadata": {},
     "output_type": "execute_result"
    },
    {
     "data": {
      "image/png": "[encoded data removed]",
      "text/plain": [
       "<Figure size 432x288 with 1 Axes>"
      ]
     },
     "metadata": {
      "needs_background": "light"
     },
     "output_type": "display_data"
    }
   ],
   "source": [
    "df.boxplot([\"AreaBulatan\"])"
   ]
  },
  {
   "cell_type": "markdown",
   "metadata": {},
   "source": [
    "### Penjelasan :\n",
    "Berdasarkan plotting di atas, dapat terlihat bahwa distribusi ini berbentuk positively skewed yang berarti sebagian besar data berada di nilai rendah. Kemudian, distribusi ini termasuk distribusi yang platykurtic karena memiliki nilai kurtosis < 3. Mean atau nilai rata-rata dari distribusi ini bernilai 4937.048 dengan standar deviasi bernilai 1011.696255. Kemudian, nilai maksimum dari distribusi ini adalah 7720 dengan nilai minimum sebesar 2579 sehingga jangkauan data dari distribusi ini bernilai 5141 dengan IQR yang bernilai 1484. Persebaran ini tidak memiliki pencilan."
   ]
  },
  {
   "cell_type": "markdown",
   "metadata": {},
   "source": [
    "## Diameter"
   ]
  },
  {
   "cell_type": "code",
   "execution_count": 15,
   "metadata": {},
   "outputs": [
    {
     "data": {
      "text/plain": [
       "<AxesSubplot:ylabel='Frequency'>"
      ]
     },
     "execution_count": 15,
     "metadata": {},
     "output_type": "execute_result"
    },
    {
     "data": {
      "image/png": "[encoded data removed]",
      "text/plain": [
       "<Figure size 432x288 with 1 Axes>"
      ]
     },
     "metadata": {
      "needs_background": "light"
     },
     "output_type": "display_data"
    }
   ],
   "source": [
    "df.Diameter.plot.hist(bins=100)"
   ]
  },
  {
   "cell_type": "code",
   "execution_count": 16,
   "metadata": {},
   "outputs": [
    {
     "data": {
      "text/plain": [
       "<AxesSubplot:>"
      ]
     },
     "execution_count": 16,
     "metadata": {},
     "output_type": "execute_result"
    },
    {
     "data": {
      "image/png": "[encoded data removed]",
      "text/plain": [
       "<Figure size 432x288 with 1 Axes>"
      ]
     },
     "metadata": {
      "needs_background": "light"
     },
     "output_type": "display_data"
    }
   ],
   "source": [
    "df.boxplot([\"Diameter\"])"
   ]
  },
  {
   "cell_type": "markdown",
   "metadata": {},
   "source": [
    "### Penjelasan :\n",
    "Berdasarkan plotting di atas, dapat terlihat bahwa distribusi ini hampir berbentuk distribusi simetris karena memiliki nilai skewness yang mendekati 0 yaitu 0.002725. Kemudian, distribusi ini termasuk distribusi yang platykurtic karena memiliki nilai kurtosis < 3. Mean atau nilai rata-rata dari distribusi ini bernilai 77.771158 dengan standar deviasi bernilai 8.056867. Kemudian, nilai maksimum dari distribusi ini adalah 97.413830 dengan nilai minimum sebesar 56.666658 sehingga jangkauan data dari distribusi ini bernilai 40.747172 dengan IQR yang bernilai 11.903290. Persebaran ini tidak memiliki pencilan."
   ]
  },
  {
   "cell_type": "markdown",
   "metadata": {},
   "source": [
    "## KadarAir"
   ]
  },
  {
   "cell_type": "code",
   "execution_count": 17,
   "metadata": {},
   "outputs": [
    {
     "data": {
      "text/plain": [
       "<AxesSubplot:ylabel='Frequency'>"
      ]
     },
     "execution_count": 17,
     "metadata": {},
     "output_type": "execute_result"
    },
    {
     "data": {
      "image/png": "[encoded data removed]",
      "text/plain": [
       "<Figure size 432x288 with 1 Axes>"
      ]
     },
     "metadata": {
      "needs_background": "light"
     },
     "output_type": "display_data"
    }
   ],
   "source": [
    "df.KadarAir.plot.hist(bins=100)"
   ]
  },
  {
   "cell_type": "code",
   "execution_count": 18,
   "metadata": {},
   "outputs": [
    {
     "data": {
      "text/plain": [
       "<AxesSubplot:>"
      ]
     },
     "execution_count": 18,
     "metadata": {},
     "output_type": "execute_result"
    },
    {
     "data": {
      "image/png": "[encoded data removed]",
      "text/plain": [
       "<Figure size 432x288 with 1 Axes>"
      ]
     },
     "metadata": {
      "needs_background": "light"
     },
     "output_type": "display_data"
    }
   ],
   "source": [
    "df.boxplot([\"KadarAir\"])"
   ]
  },
  {
   "cell_type": "markdown",
   "metadata": {},
   "source": [
    "### Penjelasan :\n",
    "Berdasarkan plotting di atas, dapat terlihat bahwa distribusi ini berbentuk positively skewed yang berarti sebagian besar data berada di nilai rendah. Kemudian, distribusi ini termasuk distribusi yang platykurtic karena memiliki nilai kurtosis < 3. Mean atau nilai rata-rata dari distribusi ini bernilai 0.648372 dengan standar deviasi bernilai 0.094367. Kemudian, nilai maksimum dari distribusi ini adalah 0.878899 dengan nilai minimum sebesar 0.409927 sehingga jangkauan data dari distribusi ini bernilai 0.468972 dengan IQR yang bernilai 0.154001. Persebaran ini tidak memiliki pencilan."
   ]
  },
  {
   "cell_type": "markdown",
   "metadata": {},
   "source": [
    "## Keliling"
   ]
  },
  {
   "cell_type": "code",
   "execution_count": 19,
   "metadata": {},
   "outputs": [
    {
     "data": {
      "text/plain": [
       "<AxesSubplot:ylabel='Frequency'>"
      ]
     },
     "execution_count": 19,
     "metadata": {},
     "output_type": "execute_result"
    },
    {
     "data": {
      "image/png": "[encoded data removed]",
      "text/plain": [
       "<Figure size 432x288 with 1 Axes>"
      ]
     },
     "metadata": {
      "needs_background": "light"
     },
     "output_type": "display_data"
    }
   ],
   "source": [
    "df.Keliling.plot.hist(bins=100)"
   ]
  },
  {
   "cell_type": "code",
   "execution_count": 20,
   "metadata": {},
   "outputs": [
    {
     "data": {
      "text/plain": [
       "<AxesSubplot:>"
      ]
     },
     "execution_count": 20,
     "metadata": {},
     "output_type": "execute_result"
    },
    {
     "data": {
      "image/png": "[encoded data removed]",
      "text/plain": [
       "<Figure size 432x288 with 1 Axes>"
      ]
     },
     "metadata": {
      "needs_background": "light"
     },
     "output_type": "display_data"
    }
   ],
   "source": [
    "df.boxplot([\"Keliling\"])"
   ]
  },
  {
   "cell_type": "markdown",
   "metadata": {},
   "source": [
    "### Penjelasan :\n",
    "Berdasarkan plotting di atas, dapat terlihat bahwa distribusi ini berbentuk positively skewed yang berarti sebagian besar data berada di nilai rendah. Kemudian, distribusi ini termasuk distribusi yang platykurtic karena memiliki nilai kurtosis < 3. Mean atau nilai rata-rata dari distribusi ini bernilai 281.479722 dengan standar deviasi bernilai 37.335402. Kemudian, nilai maksimum dari distribusi ini adalah 488.837 dengan nilai minimum sebesar 197.015 sehingga jangkauan data dari distribusi ini bernilai 291.822 dengan IQR yang bernilai 50.1795. Persebaran ini memiliki pencilan pada range data 330-500."
   ]
  },
  {
   "cell_type": "markdown",
   "metadata": {},
   "source": [
    "## Bulatan"
   ]
  },
  {
   "cell_type": "code",
   "execution_count": 21,
   "metadata": {},
   "outputs": [
    {
     "data": {
      "text/plain": [
       "<AxesSubplot:ylabel='Frequency'>"
      ]
     },
     "execution_count": 21,
     "metadata": {},
     "output_type": "execute_result"
    },
    {
     "data": {
      "image/png": "[encoded data removed]",
      "text/plain": [
       "<Figure size 432x288 with 1 Axes>"
      ]
     },
     "metadata": {
      "needs_background": "light"
     },
     "output_type": "display_data"
    }
   ],
   "source": [
    "df.Bulatan.plot.hist(bins=100)"
   ]
  },
  {
   "cell_type": "code",
   "execution_count": 22,
   "metadata": {},
   "outputs": [
    {
     "data": {
      "text/plain": [
       "<AxesSubplot:>"
      ]
     },
     "execution_count": 22,
     "metadata": {},
     "output_type": "execute_result"
    },
    {
     "data": {
      "image/png": "[encoded data removed]",
      "text/plain": [
       "<Figure size 432x288 with 1 Axes>"
      ]
     },
     "metadata": {
      "needs_background": "light"
     },
     "output_type": "display_data"
    }
   ],
   "source": [
    "df.boxplot([\"Bulatan\"])"
   ]
  },
  {
   "cell_type": "markdown",
   "metadata": {},
   "source": [
    "### Penjelasan :\n",
    "Berdasarkan plotting di atas, dapat terlihat bahwa distribusi ini berbentuk negatively skewed yang berarti sebagian besar data berada di nilai tinggi. Kemudian, distribusi ini termasuk distribusi yang leptokurtic karena memiliki nilai kurtosis > 3. Mean atau nilai rata-rata dari distribusi ini bernilai 0.761737 dengan standar deviasi bernilai 0.061702. Kemudian, nilai maksimum dari distribusi ini adalah 0.904748 dengan nilai minimum sebesar 0.174590 sehingga jangkauan data dari distribusi ini bernilai 0.730158 dengan IQR yang bernilai 0.064370. Persebaran ini memiliki pencilan pada range data 0.85-1.00, 0.10-0.30, dan 0.50-0.65."
   ]
  },
  {
   "cell_type": "markdown",
   "metadata": {},
   "source": [
    "## Ransum"
   ]
  },
  {
   "cell_type": "code",
   "execution_count": 23,
   "metadata": {},
   "outputs": [
    {
     "data": {
      "text/plain": [
       "<AxesSubplot:ylabel='Frequency'>"
      ]
     },
     "execution_count": 23,
     "metadata": {},
     "output_type": "execute_result"
    },
    {
     "data": {
      "image/png": "[encoded data removed]",
      "text/plain": [
       "<Figure size 432x288 with 1 Axes>"
      ]
     },
     "metadata": {
      "needs_background": "light"
     },
     "output_type": "display_data"
    }
   ],
   "source": [
    "df.Ransum.plot.hist(bins=100)"
   ]
  },
  {
   "cell_type": "code",
   "execution_count": 24,
   "metadata": {
    "scrolled": true
   },
   "outputs": [
    {
     "data": {
      "text/plain": [
       "<AxesSubplot:>"
      ]
     },
     "execution_count": 24,
     "metadata": {},
     "output_type": "execute_result"
    },
    {
     "data": {
      "image/png": "[encoded data removed]",
      "text/plain": [
       "<Figure size 432x288 with 1 Axes>"
      ]
     },
     "metadata": {
      "needs_background": "light"
     },
     "output_type": "display_data"
    }
   ],
   "source": [
    "df.boxplot([\"Ransum\"])"
   ]
  },
  {
   "cell_type": "markdown",
   "metadata": {},
   "source": [
    "### Penjelasan :\n",
    "Berdasarkan plotting di atas, dapat terlihat bahwa distribusi ini berbentuk negatively skewed yang berarti sebagian besar data berada di nilai tinggi. Kemudian, distribusi ini termasuk distribusi yang platykurtic karena memiliki nilai kurtosis < 3. Mean atau nilai rata-rata dari distribusi ini bernilai 2.150915 dengan standar deviasi bernilai 0.249767. Kemudian, nilai maksimum dari distribusi ini adalah 2.464809 dengan nilai minimum sebesar 1.440796 sehingga jangkauan data dari distribusi ini bernilai 1.024013 dengan IQR yang bernilai 0.397673. Persebaran ini tidak memiliki pencilan."
   ]
  },
  {
   "cell_type": "markdown",
   "metadata": {},
   "source": [
    "# Bagian 3\n",
    "\n",
    "### Tujuan\n",
    "Menentukan apakah setiap kolom pada data merupakan distribusi normal atau tidak.\n",
    "### Cara\n",
    "1. Membuat plot histogram dari setiap atribut dari data yang diberikan\n",
    "2. Membuat plot histogram distribusi normal dari atribut data yang diberikan menggunakan metode _bootstrap_, yaitu metode yang akan meng-_generate_ data random berdasarkan rata-rata dan simpangan baku dari atribut terkait, kemudian diplot pada histogram\n",
    "3. Membuat perbandingan dari kedua plot yang sudah dibuat dengan menggabungkan kedua plot tersebut untuk memberikan gambaran data (perbandingan kasar)\n",
    "4. Melakukan _Pearson's Chi Squared Test_ dan _Shapiro-Wilk Test_ untuk menentukan seberapa berbeda kedua plot data tersebut (hasilnya kemungkinan akan berbeda-beda tipis karena perbandingannya dengan data yang dibuat secara random)"
   ]
  },
  {
   "cell_type": "markdown",
   "metadata": {},
   "source": [
    "### Hipotesis\n",
    "$$\n",
    "H_{0} : Observed = Expected \\\\\n",
    "H_{a} : Observed \\neq Expected\n",
    "$$\n",
    "\n",
    "### Pearson's Chi Square Test for Goodness of Fit\n",
    "$$\n",
    "\\chi^{2} = \\sum_{i=1}^{n}\\frac{(O_{i}-E_{i})^{2}}{E_{i}} \\\\\n",
    "O_{i} = Observed Frequency \\\\\n",
    "E_{i} = Expected Frequency\n",
    "$$\n",
    "\n",
    "### Shapiro-Wilk Test for Normality\n",
    "$$\n",
    "W = \\frac{\\left \\{ \\sum_{i=1}^{n}a_{i}x_{(i)} \\right \\}^{2}}{\\sum_{i=1}^{n}(x_{i}-\\bar{x})^{2}} \\\\\n",
    "x_{(i)} = Nilai\\:terkecil\\:ke-i\\:pada\\:sampel \\\\\n",
    "\\bar{x} = Rata-rata\\:pada\\:sampel \\\\\n",
    "a_{i} = Koefisien\n",
    "$$"
   ]
  },
  {
   "cell_type": "code",
   "execution_count": 25,
   "metadata": {
    "scrolled": true
   },
   "outputs": [],
   "source": [
    "# Mengecek normalitas dari graph\n",
    "def checknormal(attr):\n",
    "    print('Histogram dari ' + attr + ' dan distribusi normalnya')\n",
    "    print('-----------------------------------------------------')\n",
    "    print('Hipotesis null: nilai dari data ' + attr + ' tidak jauh berbeda dari distribusi normal')\n",
    "    print('Hipotesis alternatif: nilai dari data ' + attr + ' berbeda dengan distribusi normal')\n",
    "    samples = np.random.normal(np.mean(df[attr]), np.std(df[attr]), size=500)\n",
    "    stat, p = stats.chisquare(f_obs=df[attr],f_exp=samples)\n",
    "    checkhypothesis(\"Pearson's Chi-Squared\",p,stat)\n",
    "    stat, p = stats.shapiro(df[attr])\n",
    "    checkhypothesis('Shapiro-Wilk',p,stat)\n",
    "    plt.hist(samples, 40, alpha=0.5, label='Normal', color=\"blue\")\n",
    "    plt.hist(df[attr], 40, alpha=0.5, label=attr, color=\"orange\")\n",
    "    plt.legend(loc='upper right')\n",
    "    plt.show()\n",
    "\n",
    "# Mengecek hipotesis\n",
    "def checkhypothesis(test,p,stat):\n",
    "    print()\n",
    "    print(test + ' test:')\n",
    "    alpha = 0.05\n",
    "    print('p: ' + str(p))\n",
    "    print('statistik '+ test + ': ' + str(stat))\n",
    "    if p <= alpha:\n",
    "        print('Data tidak terdistribusi normal')\n",
    "    else:\n",
    "        print('Data terdistribusi normal, gagal menolak H0')"
   ]
  },
  {
   "cell_type": "code",
   "execution_count": 26,
   "metadata": {
    "scrolled": false
   },
   "outputs": [
    {
     "name": "stdout",
     "output_type": "stream",
     "text": [
      "Histogram dari Daerah dan distribusi normalnya\n",
      "-----------------------------------------------------\n",
      "Hipotesis null: nilai dari data Daerah tidak jauh berbeda dari distribusi normal\n",
      "Hipotesis alternatif: nilai dari data Daerah berbeda dengan distribusi normal\n",
      "\n",
      "Pearson's Chi-Squared test:\n",
      "p: 0.0\n",
      "statistik Pearson's Chi-Squared: 221479.9405654713\n",
      "Data tidak terdistribusi normal\n",
      "\n",
      "Shapiro-Wilk test:\n",
      "p: 0.003270698245614767\n",
      "statistik Shapiro-Wilk: 0.9907860159873962\n",
      "Data tidak terdistribusi normal\n"
     ]
    },
    {
     "data": {
      "image/png": "[encoded data removed]",
      "text/plain": [
       "<Figure size 432x288 with 1 Axes>"
      ]
     },
     "metadata": {
      "needs_background": "light"
     },
     "output_type": "display_data"
    },
    {
     "name": "stdout",
     "output_type": "stream",
     "text": [
      "Histogram dari SumbuUtama dan distribusi normalnya\n",
      "-----------------------------------------------------\n",
      "Hipotesis null: nilai dari data SumbuUtama tidak jauh berbeda dari distribusi normal\n",
      "Hipotesis alternatif: nilai dari data SumbuUtama berbeda dengan distribusi normal\n",
      "\n",
      "Pearson's Chi-Squared test:\n",
      "p: 0.0\n",
      "statistik Pearson's Chi-Squared: 3030.823917991788\n",
      "Data tidak terdistribusi normal\n",
      "\n",
      "Shapiro-Wilk test:\n",
      "p: 9.236201213569384e-12\n",
      "statistik Shapiro-Wilk: 0.9513812065124512\n",
      "Data tidak terdistribusi normal\n"
     ]
    },
    {
     "data": {
      "image/png": "[encoded data removed]",
      "text/plain": [
       "<Figure size 432x288 with 1 Axes>"
      ]
     },
     "metadata": {
      "needs_background": "light"
     },
     "output_type": "display_data"
    },
    {
     "name": "stdout",
     "output_type": "stream",
     "text": [
      "Histogram dari SumbuKecil dan distribusi normalnya\n",
      "-----------------------------------------------------\n",
      "Hipotesis null: nilai dari data SumbuKecil tidak jauh berbeda dari distribusi normal\n",
      "Hipotesis alternatif: nilai dari data SumbuKecil berbeda dengan distribusi normal\n",
      "\n",
      "Pearson's Chi-Squared test:\n",
      "p: 0.9999999999904546\n",
      "statistik Pearson's Chi-Squared: 315.344814932679\n",
      "Data terdistribusi normal, gagal menolak H0\n",
      "\n",
      "Shapiro-Wilk test:\n",
      "p: 0.4234558641910553\n",
      "statistik Shapiro-Wilk: 0.996778666973114\n",
      "Data terdistribusi normal, gagal menolak H0\n"
     ]
    },
    {
     "data": {
      "image/png": "[encoded data removed]",
      "text/plain": [
       "<Figure size 432x288 with 1 Axes>"
      ]
     },
     "metadata": {
      "needs_background": "light"
     },
     "output_type": "display_data"
    },
    {
     "name": "stdout",
     "output_type": "stream",
     "text": [
      "Histogram dari Keunikan dan distribusi normalnya\n",
      "-----------------------------------------------------\n",
      "Hipotesis null: nilai dari data Keunikan tidak jauh berbeda dari distribusi normal\n",
      "Hipotesis alternatif: nilai dari data Keunikan berbeda dengan distribusi normal\n",
      "\n",
      "Pearson's Chi-Squared test:\n",
      "p: 1.0\n",
      "statistik Pearson's Chi-Squared: 1.5203164750757008\n",
      "Data terdistribusi normal, gagal menolak H0\n",
      "\n",
      "Shapiro-Wilk test:\n",
      "p: 1.3151663082081454e-22\n",
      "statistik Shapiro-Wilk: 0.8309029340744019\n",
      "Data tidak terdistribusi normal\n"
     ]
    },
    {
     "data": {
      "image/png": "[encoded data removed]",
      "text/plain": [
       "<Figure size 432x288 with 1 Axes>"
      ]
     },
     "metadata": {
      "needs_background": "light"
     },
     "output_type": "display_data"
    },
    {
     "name": "stdout",
     "output_type": "stream",
     "text": [
      "Histogram dari AreaBulatan dan distribusi normalnya\n",
      "-----------------------------------------------------\n",
      "Hipotesis null: nilai dari data AreaBulatan tidak jauh berbeda dari distribusi normal\n",
      "Hipotesis alternatif: nilai dari data AreaBulatan berbeda dengan distribusi normal\n",
      "\n",
      "Pearson's Chi-Squared test:\n",
      "p: 0.0\n",
      "statistik Pearson's Chi-Squared: 242576.03411625882\n",
      "Data tidak terdistribusi normal\n",
      "\n",
      "Shapiro-Wilk test:\n",
      "p: 0.0024847122840583324\n",
      "statistik Shapiro-Wilk: 0.990435779094696\n",
      "Data tidak terdistribusi normal\n"
     ]
    },
    {
     "data": {
      "image/png": "[encoded data removed]",
      "text/plain": [
       "<Figure size 432x288 with 1 Axes>"
      ]
     },
     "metadata": {
      "needs_background": "light"
     },
     "output_type": "display_data"
    },
    {
     "name": "stdout",
     "output_type": "stream",
     "text": [
      "Histogram dari Diameter dan distribusi normalnya\n",
      "-----------------------------------------------------\n",
      "Hipotesis null: nilai dari data Diameter tidak jauh berbeda dari distribusi normal\n",
      "Hipotesis alternatif: nilai dari data Diameter berbeda dengan distribusi normal\n",
      "\n",
      "Pearson's Chi-Squared test:\n",
      "p: 6.671994658631065e-23\n",
      "statistik Pearson's Chi-Squared: 873.9743187379497\n",
      "Data tidak terdistribusi normal\n",
      "\n",
      "Shapiro-Wilk test:\n",
      "p: 0.11834503710269928\n",
      "statistik Shapiro-Wilk: 0.9951366186141968\n",
      "Data terdistribusi normal, gagal menolak H0\n"
     ]
    },
    {
     "data": {
      "image/png": "[encoded data removed]",
      "text/plain": [
       "<Figure size 432x288 with 1 Axes>"
      ]
     },
     "metadata": {
      "needs_background": "light"
     },
     "output_type": "display_data"
    },
    {
     "name": "stdout",
     "output_type": "stream",
     "text": [
      "Histogram dari KadarAir dan distribusi normalnya\n",
      "-----------------------------------------------------\n",
      "Hipotesis null: nilai dari data KadarAir tidak jauh berbeda dari distribusi normal\n",
      "Hipotesis alternatif: nilai dari data KadarAir berbeda dengan distribusi normal\n",
      "\n",
      "Pearson's Chi-Squared test:\n",
      "p: 1.0\n",
      "statistik Pearson's Chi-Squared: 14.048578472849966\n",
      "Data terdistribusi normal, gagal menolak H0\n",
      "\n",
      "Shapiro-Wilk test:\n",
      "p: 1.959499836695633e-12\n",
      "statistik Shapiro-Wilk: 0.9466671347618103\n",
      "Data tidak terdistribusi normal\n"
     ]
    },
    {
     "data": {
      "image/png": "[encoded data removed]",
      "text/plain": [
       "<Figure size 432x288 with 1 Axes>"
      ]
     },
     "metadata": {
      "needs_background": "light"
     },
     "output_type": "display_data"
    },
    {
     "name": "stdout",
     "output_type": "stream",
     "text": [
      "Histogram dari Keliling dan distribusi normalnya\n",
      "-----------------------------------------------------\n",
      "Hipotesis null: nilai dari data Keliling tidak jauh berbeda dari distribusi normal\n",
      "Hipotesis alternatif: nilai dari data Keliling berbeda dengan distribusi normal\n",
      "\n",
      "Pearson's Chi-Squared test:\n",
      "p: 0.0\n",
      "statistik Pearson's Chi-Squared: 4916.3624966620555\n",
      "Data tidak terdistribusi normal\n",
      "\n",
      "Shapiro-Wilk test:\n",
      "p: 9.728394090302572e-09\n",
      "statistik Shapiro-Wilk: 0.9692449569702148\n",
      "Data tidak terdistribusi normal\n"
     ]
    },
    {
     "data": {
      "image/png": "[encoded data removed]",
      "text/plain": [
       "<Figure size 432x288 with 1 Axes>"
      ]
     },
     "metadata": {
      "needs_background": "light"
     },
     "output_type": "display_data"
    },
    {
     "name": "stdout",
     "output_type": "stream",
     "text": [
      "Histogram dari Bulatan dan distribusi normalnya\n",
      "-----------------------------------------------------\n",
      "Hipotesis null: nilai dari data Bulatan tidak jauh berbeda dari distribusi normal\n",
      "Hipotesis alternatif: nilai dari data Bulatan berbeda dengan distribusi normal\n",
      "\n",
      "Pearson's Chi-Squared test:\n",
      "p: 1.0\n",
      "statistik Pearson's Chi-Squared: 5.322983298759263\n",
      "Data terdistribusi normal, gagal menolak H0\n",
      "\n",
      "Shapiro-Wilk test:\n",
      "p: 6.899158691421287e-26\n",
      "statistik Shapiro-Wilk: 0.7697757482528687\n",
      "Data tidak terdistribusi normal\n"
     ]
    },
    {
     "data": {
      "image/png": "[encoded data removed]",
      "text/plain": [
       "<Figure size 432x288 with 1 Axes>"
      ]
     },
     "metadata": {
      "needs_background": "light"
     },
     "output_type": "display_data"
    },
    {
     "name": "stdout",
     "output_type": "stream",
     "text": [
      "Histogram dari Ransum dan distribusi normalnya\n",
      "-----------------------------------------------------\n",
      "Hipotesis null: nilai dari data Ransum tidak jauh berbeda dari distribusi normal\n",
      "Hipotesis alternatif: nilai dari data Ransum berbeda dengan distribusi normal\n",
      "\n",
      "Pearson's Chi-Squared test:\n",
      "p: 1.0\n",
      "statistik Pearson's Chi-Squared: 25.271251299139067\n",
      "Data terdistribusi normal, gagal menolak H0\n",
      "\n",
      "Shapiro-Wilk test:\n",
      "p: 6.245541108888591e-15\n",
      "statistik Shapiro-Wilk: 0.9265043139457703\n",
      "Data tidak terdistribusi normal\n"
     ]
    },
    {
     "data": {
      "image/png": "[encoded data removed]",
      "text/plain": [
       "<Figure size 432x288 with 1 Axes>"
      ]
     },
     "metadata": {
      "needs_background": "light"
     },
     "output_type": "display_data"
    }
   ],
   "source": [
    "for columns in df2:\n",
    "    checknormal(str(columns))"
   ]
  },
  {
   "cell_type": "markdown",
   "metadata": {},
   "source": [
    "# Bagian 4\n",
    "\n",
    "Melakukan test hipotesis 1 sampel, dengan menuliskan 6 langkah testing dan menampilkan\n",
    "juga boxplotnya untuk kolom/bagian yang bersesuaian. \n",
    "\n",
    "1. Nilai rata-rata Daerah di atas 4700? \n",
    "2. Nilai Rata-rata Sumbu Utama tidak sama dengan 116? \n",
    "3. Nilai Rata-rata 20 baris pertama kolom Sumbu Kecil bukan 50? \n",
    "4. Proporsi nilai Diameter yang lebih dari 85, adalah tidak sama dengan 15% ? \n",
    "5. Proporsi nilai Keliling yang kurang dari 100, adalah kurang dari 5% ?"
   ]
  },
  {
   "cell_type": "markdown",
   "metadata": {},
   "source": [
    "$\n",
    "1.\\ Rumus\\ fungsi\\ getZ\\ :\\ \\frac{\\bar{x} - \\mu _0}{\\frac{\\sigma}{\\sqrt{n}}}\\\\\n",
    "2.\\ Rumus\\ fungsi\\ getZprop\\ :\\ \\frac{\\hat{p} - p_0}{\\sqrt{\\frac{p_0 q_0}{n}}}\\\\\n",
    "\\\\\n",
    "Asumsi\\ yang\\ digunakan\\ :\\ dataset\\ yang\\ digunakan\\ diperlakukan\\ sebagai\\ sampel\n",
    "$"
   ]
  },
  {
   "cell_type": "code",
   "execution_count": 27,
   "metadata": {},
   "outputs": [],
   "source": [
    "#pendefinisian tes statistik\n",
    "\n",
    "#parameter col adalah nama kolom yang ingin diuji\n",
    "#parameter m0 adalah nilai miu 0\n",
    "#parameter numrow adalah indeks (dimulai dari 1) terakhir data yang ingin diuji\n",
    "def getZ(col, m0, numrow): \n",
    "    return (df[col].iloc[:numrow].mean()-m0)/ (df[col].iloc[:numrow].std()/math.sqrt(df[col].iloc[:numrow].count()))\n",
    "\n",
    "#parameter col adalah nama kolom yang ingin diuji\n",
    "#parameter phat adalah nilai p-hat yaitu x/n\n",
    "#parameter p0 adalah nilai proporsi\n",
    "def getZprop(col, phat, p0):\n",
    "    return ((phat-p0)/math.sqrt(p0*(1-p0)/df[col].count()))"
   ]
  },
  {
   "cell_type": "markdown",
   "metadata": {},
   "source": [
    "## Soal 4.1\n",
    "\n",
    "Nilai rata-rata Daerah di atas 4700?"
   ]
  },
  {
   "cell_type": "markdown",
   "metadata": {},
   "source": [
    "$\n",
    "1.\\,{H_0} : \\mu = 4700\\\\\n",
    "2.\\,{H_1} : \\mu > 4700\\\\\n",
    "3.\\,\\alpha = 0.05\\\\\n",
    "4.\\,Tes\\ statistik : \\frac{\\bar{x} - \\mu _0}{\\frac{\\sigma}{\\sqrt{n}}}\\\\ \\\\\n",
    "Mencari\\ daerah\\ kritis\\ :\n",
    "$"
   ]
  },
  {
   "cell_type": "code",
   "execution_count": 28,
   "metadata": {
    "scrolled": false
   },
   "outputs": [
    {
     "name": "stdout",
     "output_type": "stream",
     "text": [
      "crit = 1.6448536269514722\n"
     ]
    }
   ],
   "source": [
    "#alpha berada pada nilai 0.05, karena tes yang dilakukan adalah 1 tailed test dari kanan, maka p-value = 0.95 sehingga\n",
    "crit  = stats.norm.ppf(0.95)\n",
    "print(\"crit =\", crit)"
   ]
  },
  {
   "cell_type": "markdown",
   "metadata": {},
   "source": [
    "$\n",
    "\\ Maka\\ didapat\\ Critical\\ area : z\\ > z_{0.95}= 1.645\\\\~\\\\\n",
    "5.\\ Uji\\ statistik\\ :\n",
    "$"
   ]
  },
  {
   "cell_type": "code",
   "execution_count": 29,
   "metadata": {
    "scrolled": true
   },
   "outputs": [
    {
     "name": "stdout",
     "output_type": "stream",
     "text": [
      "z = 2.2951538242525173\n"
     ]
    }
   ],
   "source": [
    "z1 = getZ(\"Daerah\", 4700, df[\"Daerah\"].count())\n",
    "print(\"z =\", z1)"
   ]
  },
  {
   "cell_type": "markdown",
   "metadata": {},
   "source": [
    "$\n",
    "6.\\ Karena\\ z=2.295>1.645,\\ sehingga\\ nilai\\ uji\\ terletak\\ di\\ daerah\\ kritis\\ maka\\ tolak\\ H_0\\ dan\\ terima\\ H_1 \\\\~\\\\ \n",
    "Mencari\\ p-value :\n",
    "$"
   ]
  },
  {
   "cell_type": "code",
   "execution_count": 30,
   "metadata": {},
   "outputs": [
    {
     "name": "stdout",
     "output_type": "stream",
     "text": [
      "p-value = 0.010862155196799894\n"
     ]
    }
   ],
   "source": [
    "#mencari p-value, p-value = P(Z > 2.295)\n",
    "pval1 = 1 - stats.norm.cdf(z1)\n",
    "print (\"p-value =\", pval1)"
   ]
  },
  {
   "cell_type": "markdown",
   "metadata": {},
   "source": [
    "$\n",
    "Karena \\ p=0.0109 < 0.05,\\ maka\\ benar\\ untuk\\ menolak\\ H_0\\ dan\\ menerima\\ H_1 \\\\~\\\\\n",
    "Boxplot\\ kolom\\ Daerah\\ :\n",
    "$"
   ]
  },
  {
   "cell_type": "code",
   "execution_count": 31,
   "metadata": {},
   "outputs": [
    {
     "data": {
      "text/plain": [
       "<AxesSubplot:>"
      ]
     },
     "execution_count": 31,
     "metadata": {},
     "output_type": "execute_result"
    },
    {
     "data": {
      "image/png": "[encoded data removed]",
      "text/plain": [
       "<Figure size 432x288 with 1 Axes>"
      ]
     },
     "metadata": {
      "needs_background": "light"
     },
     "output_type": "display_data"
    }
   ],
   "source": [
    "df.boxplot([\"Daerah\"])"
   ]
  },
  {
   "cell_type": "markdown",
   "metadata": {},
   "source": [
    "## Soal 4.2\n",
    "\n",
    "Nilai Rata-rata Sumbu Utama tidak sama dengan 116?"
   ]
  },
  {
   "cell_type": "markdown",
   "metadata": {},
   "source": [
    "$\n",
    "1.\\, {H_0} : \\mu = 116\\\\\n",
    "2.\\, {H_1} : \\mu \\neq 116\\\\\n",
    "3.\\, \\alpha = 0.05\\\\\n",
    "4.\\, Tes\\ statistik : \\frac{\\bar{x} - \\mu _0}{\\frac{\\sigma}{\\sqrt{n}}}\\\\\n",
    "Mencari\\ daerah\\ kritis\\ :\n",
    "$"
   ]
  },
  {
   "cell_type": "code",
   "execution_count": 32,
   "metadata": {},
   "outputs": [
    {
     "name": "stdout",
     "output_type": "stream",
     "text": [
      "crit1 = -1.9599639845400545\n",
      "crit2 = 1.959963984540054\n"
     ]
    }
   ],
   "source": [
    "#alpha berada pada nilai 0.05, karena tes yang dilakukan adalah 2 tailed test, maka p-value = 0.025 sehingga\n",
    "crit1  = stats.norm.ppf(0.025)\n",
    "print(\"crit1 =\", crit1)\n",
    "crit2  = stats.norm.ppf(0.975)\n",
    "print(\"crit2 =\", crit2)"
   ]
  },
  {
   "cell_type": "markdown",
   "metadata": {},
   "source": [
    "$\n",
    "Maka\\ didapat\\ critical\\ area : z\\ < z_{0.025}= -1.96 \\ \\cap\\  z\\ > z_{0.975}= 1.96\\\\~\\\\\n",
    "5.\\ Uji\\ statistik\\ :\n",
    "$"
   ]
  },
  {
   "cell_type": "code",
   "execution_count": 33,
   "metadata": {},
   "outputs": [
    {
     "name": "stdout",
     "output_type": "stream",
     "text": [
      "z = 0.05524712326730106\n"
     ]
    }
   ],
   "source": [
    "z2 = getZ(\"SumbuUtama\", 116, df[\"SumbuUtama\"].count())\n",
    "print(\"z =\",z2)"
   ]
  },
  {
   "cell_type": "markdown",
   "metadata": {},
   "source": [
    "$\n",
    "6.\\ Karena\\ -1.96\\leq 0.055 \\leq 1.96,\\ sehingga\\ nilai\\ uji\\ terletak\\ pada\\ critical\\ area\\ maka\\ dapat\\ dinyatakan\\ gagal\\ menolak\\ H_0. \\\\~\\\\\n",
    "Mencari\\ p-value\\ :\n",
    "$"
   ]
  },
  {
   "cell_type": "code",
   "execution_count": 34,
   "metadata": {},
   "outputs": [
    {
     "name": "stdout",
     "output_type": "stream",
     "text": [
      "p-value = 0.9559415872977521\n"
     ]
    }
   ],
   "source": [
    "#mencari p-value, p-value = 2*P(1-Z < 0.055)\n",
    "pval2 = 2*(1-stats.norm.cdf(z2))\n",
    "print (\"p-value =\", pval2)"
   ]
  },
  {
   "cell_type": "markdown",
   "metadata": {},
   "source": [
    "$\n",
    "Karena\\ 0.955 > 0.05,\\ maka \\ benar \\ gagal\\ menolak\\ H_0\\ karena \\ tidak \\ ada \\ bukti \\ yang\\ memadai\\ untuk\\ mengambil\\ kesimpulan.\\\\~\\\\\n",
    "Boxplot\\ kolom\\ SumbuUtama\\ :\n",
    "$"
   ]
  },
  {
   "cell_type": "code",
   "execution_count": 35,
   "metadata": {},
   "outputs": [
    {
     "data": {
      "text/plain": [
       "<AxesSubplot:>"
      ]
     },
     "execution_count": 35,
     "metadata": {},
     "output_type": "execute_result"
    },
    {
     "data": {
      "image/png": "[encoded data removed]",
      "text/plain": [
       "<Figure size 432x288 with 1 Axes>"
      ]
     },
     "metadata": {
      "needs_background": "light"
     },
     "output_type": "display_data"
    }
   ],
   "source": [
    "df.boxplot([\"SumbuUtama\"])"
   ]
  },
  {
   "cell_type": "markdown",
   "metadata": {},
   "source": [
    "## Soal 4.3\n",
    "\n",
    "Nilai Rata-rata 20 baris pertama kolom Sumbu Kecil bukan 50?"
   ]
  },
  {
   "cell_type": "markdown",
   "metadata": {},
   "source": [
    "$\n",
    "1.\\, {H_0} : \\mu = 50\\\\\n",
    "2.\\, {H_1} : \\mu \\neq 50\\\\\n",
    "3.\\, \\alpha = 0.05\\\\\n",
    "4.\\, Tes\\ statistik : \\frac{\\bar{x} - \\mu _0}{\\frac{\\sigma}{\\sqrt{n}}}\\\\\n",
    "Mencari\\ daerah\\ kritis\\ :\n",
    "$"
   ]
  },
  {
   "cell_type": "code",
   "execution_count": 36,
   "metadata": {},
   "outputs": [
    {
     "name": "stdout",
     "output_type": "stream",
     "text": [
      "crit1 = -1.9599639845400545\n",
      "crit2 = 1.959963984540054\n"
     ]
    }
   ],
   "source": [
    "#mencari daerah kritis\n",
    "#alpha berada pada nilai 0.05, karena tes yang dilakukan adalah 2 tailed test, maka p-value = 0.025 dan 0.975 sehingga\n",
    "crit1  = stats.norm.ppf(0.025)\n",
    "print(\"crit1 =\", crit1)\n",
    "crit2  = stats.norm.ppf(0.975)\n",
    "print(\"crit2 =\", crit2)"
   ]
  },
  {
   "cell_type": "markdown",
   "metadata": {},
   "source": [
    "$\n",
    "Maka\\ didapat\\ critical\\ area : z\\ < z_{0.025}= -1.96 \\ \\cap\\  z\\ > z_{0.975}= 1.96\\\\~\\\\\n",
    "5.\\ Uji\\ statistik\\ :\n",
    "$"
   ]
  },
  {
   "cell_type": "code",
   "execution_count": 37,
   "metadata": {},
   "outputs": [
    {
     "name": "stdout",
     "output_type": "stream",
     "text": [
      "z = 6.478168916968894\n"
     ]
    }
   ],
   "source": [
    "z3 = getZ(\"SumbuKecil\", 50, 20)\n",
    "print(\"z =\", z3)"
   ]
  },
  {
   "cell_type": "markdown",
   "metadata": {},
   "source": [
    "$\n",
    "6.\\ Karena\\ 6.478 >1.96,\\ sehingga\\ nilai\\ uji\\ terletak\\ di\\ daerah\\ kritis\\ maka\\ tolak\\ H_0\\ dan\\ terima\\ H_1 \\\\~\\\\\n",
    "Mencari\\ p-value\\ :\n",
    "$"
   ]
  },
  {
   "cell_type": "code",
   "execution_count": 38,
   "metadata": {},
   "outputs": [
    {
     "name": "stdout",
     "output_type": "stream",
     "text": [
      "p-value = 0.0000000000928424\n"
     ]
    }
   ],
   "source": [
    "#mencari p-value, p-value = 2*P(1-Z < 6.4781)\n",
    "pval3 = 2*(1-(stats.norm.cdf(z3)))\n",
    "print (\"p-value =\", \"{:.16f}\".format(float(str(pval3))))"
   ]
  },
  {
   "cell_type": "markdown",
   "metadata": {},
   "source": [
    "$\n",
    "Karena\\ 0.0000000000928424 < 0.05,\\ maka \\ benar \\ untuk\\ menolak\\ H_0\\ dan\\ menerima\\ H_1\\\\~\\\\\n",
    "Boxplot\\ kolom\\ SumbuKecil\\ :\n",
    "$"
   ]
  },
  {
   "cell_type": "code",
   "execution_count": 39,
   "metadata": {},
   "outputs": [
    {
     "data": {
      "text/plain": [
       "<AxesSubplot:>"
      ]
     },
     "execution_count": 39,
     "metadata": {},
     "output_type": "execute_result"
    },
    {
     "data": {
      "image/png": "[encoded data removed]",
      "text/plain": [
       "<Figure size 432x288 with 1 Axes>"
      ]
     },
     "metadata": {
      "needs_background": "light"
     },
     "output_type": "display_data"
    }
   ],
   "source": [
    "df.iloc[:20].boxplot([\"SumbuKecil\"])"
   ]
  },
  {
   "cell_type": "markdown",
   "metadata": {},
   "source": [
    "## Soal 4.4\n",
    "\n",
    "Proporsi nilai Diameter yang lebih dari 85, adalah tidak sama dengan 15% ?"
   ]
  },
  {
   "cell_type": "markdown",
   "metadata": {},
   "source": [
    "$\n",
    "1.\\, {H_0} : p = 0.15\\\\\n",
    "2.\\, {H_1} : p \\neq 0.15\\\\\n",
    "3.\\, \\alpha = 0.05\\\\\n",
    "4.\\, Tes\\ statistik : \\frac{\\hat{p} - p_0}{\\sqrt{\\frac{p_0 q_0}{n}}}\\\\\n",
    "\\: \\: dengan \\  \\hat{p} = \\frac{x}{n}\n",
    "$"
   ]
  },
  {
   "cell_type": "code",
   "execution_count": 40,
   "metadata": {},
   "outputs": [
    {
     "name": "stdout",
     "output_type": "stream",
     "text": [
      "p-hat = 0.194\n"
     ]
    }
   ],
   "source": [
    "#mencari p-hat\n",
    "x = 0\n",
    "for val in df[\"Diameter\"]:\n",
    "    if val > 85:\n",
    "        x= x + 1\n",
    "phat = x/df[\"Diameter\"].count()\n",
    "print(\"p-hat =\", phat)"
   ]
  },
  {
   "cell_type": "code",
   "execution_count": 41,
   "metadata": {},
   "outputs": [
    {
     "name": "stdout",
     "output_type": "stream",
     "text": [
      "crit1 = -1.9599639845400545\n",
      "crit2 = 1.959963984540054\n"
     ]
    }
   ],
   "source": [
    "#mencari daerah kritis\n",
    "#alpha berada pada nilai 0.05, karena tes yang dilakukan adalah 2 tailed test, maka p-value = 0.025 sehingga\n",
    "crit1  = stats.norm.ppf(0.025)\n",
    "print(\"crit1 =\", crit1)\n",
    "crit2  = stats.norm.ppf(0.975)\n",
    "print(\"crit2 =\", crit2)"
   ]
  },
  {
   "cell_type": "markdown",
   "metadata": {},
   "source": [
    "$\n",
    "Maka\\ didapat\\ critical\\ area : z\\ < z_{0.025}= -1.96 \\ \\cap\\  z\\ > z_{0.975}= 1.96\\\\~\\\\\n",
    "5.\\ Uji\\ statistik\\ :\n",
    "$"
   ]
  },
  {
   "cell_type": "code",
   "execution_count": 42,
   "metadata": {},
   "outputs": [
    {
     "name": "stdout",
     "output_type": "stream",
     "text": [
      "z = 2.755386880774658\n"
     ]
    }
   ],
   "source": [
    "z4 = getZprop(\"Diameter\", phat, 0.15)\n",
    "print(\"z =\", z4)"
   ]
  },
  {
   "cell_type": "markdown",
   "metadata": {},
   "source": [
    "$\n",
    "6.\\ Karena\\ 2.755 > 1.96,\\ sehingga\\ nilai\\ uji\\ terletak\\ di\\ daerah\\ kritis\\ maka\\ tolak\\ H_0\\ dan\\ terima\\ H_1 \\\\~\\\\\n",
    "Mencari\\ p-value\\ :\n",
    "$"
   ]
  },
  {
   "cell_type": "code",
   "execution_count": 43,
   "metadata": {},
   "outputs": [
    {
     "name": "stdout",
     "output_type": "stream",
     "text": [
      "p-value = 0.005862277168409591\n"
     ]
    }
   ],
   "source": [
    "#mencari p-value, p-value = 2*P(Z < 2.755)\n",
    "pval4 = 2*(1-stats.norm.cdf(z4))\n",
    "print (\"p-value =\", pval4)"
   ]
  },
  {
   "cell_type": "markdown",
   "metadata": {},
   "source": [
    "$\n",
    "Karena\\ 0.0058 < 0.05,\\ maka \\ benar \\ untuk\\ menolak\\ H_0\\ dan\\ menerima\\ H_1\\ \\\\~\\\\\n",
    "Boxplot\\ kolom\\ Diameter\\ :\n",
    "$"
   ]
  },
  {
   "cell_type": "code",
   "execution_count": 44,
   "metadata": {},
   "outputs": [
    {
     "data": {
      "text/plain": [
       "<AxesSubplot:>"
      ]
     },
     "execution_count": 44,
     "metadata": {},
     "output_type": "execute_result"
    },
    {
     "data": {
      "image/png": "[encoded data removed]",
      "text/plain": [
       "<Figure size 432x288 with 1 Axes>"
      ]
     },
     "metadata": {
      "needs_background": "light"
     },
     "output_type": "display_data"
    }
   ],
   "source": [
    "df.boxplot([\"Diameter\"])"
   ]
  },
  {
   "cell_type": "markdown",
   "metadata": {},
   "source": [
    "## Soal 4.5\n",
    "\n",
    "Proporsi nilai Keliling yang kurang dari 100, adalah kurang dari 5% ?"
   ]
  },
  {
   "cell_type": "markdown",
   "metadata": {},
   "source": [
    "$\n",
    "1.\\, {H_0} : p = 0.05\\\\\n",
    "2.\\, {H_1} : p < 0.05\\\\\n",
    "3.\\, \\alpha = 0.05\\\\\n",
    "4.\\, Tes\\ statistik : \\frac{\\hat{p} - p_0}{\\sqrt{\\frac{p_0 q_0}{n}}}\\\\\n",
    "\\, \\, dengan \\,  \\hat{p} = \\frac{x}{n}\n",
    "$"
   ]
  },
  {
   "cell_type": "code",
   "execution_count": 45,
   "metadata": {},
   "outputs": [
    {
     "name": "stdout",
     "output_type": "stream",
     "text": [
      "p-hat = 0.0\n"
     ]
    }
   ],
   "source": [
    "#mencari p-hat\n",
    "x = 0\n",
    "for val in df[\"Keliling\"]:\n",
    "    if val < 100:\n",
    "        x= x + 1\n",
    "phat = x/df[\"Keliling\"].count()\n",
    "print(\"p-hat =\", phat)"
   ]
  },
  {
   "cell_type": "code",
   "execution_count": 46,
   "metadata": {},
   "outputs": [
    {
     "name": "stdout",
     "output_type": "stream",
     "text": [
      "crit = -1.6448536269514729\n"
     ]
    }
   ],
   "source": [
    "#mencari daerah kritis\n",
    "#alpha berada pada nilai 0.05, karena tes yang dilakukan adalah 1 tailed test dari kiri, maka p-value = 0.05 sehingga\n",
    "crit  = stats.norm.ppf(0.05)\n",
    "print(\"crit =\", crit)"
   ]
  },
  {
   "cell_type": "markdown",
   "metadata": {},
   "source": [
    "$\n",
    "Maka\\ didapat\\ critical\\ area : z\\ < z_{0.05}= -1.645\\\\~\\\\\n",
    "5.\\ Uji\\ statistik\\ :\n",
    "$"
   ]
  },
  {
   "cell_type": "code",
   "execution_count": 47,
   "metadata": {},
   "outputs": [
    {
     "name": "stdout",
     "output_type": "stream",
     "text": [
      "-5.129891760425771\n"
     ]
    }
   ],
   "source": [
    "z5 = getZprop(\"Keliling\", phat, 0.05)\n",
    "print(z5)"
   ]
  },
  {
   "cell_type": "markdown",
   "metadata": {},
   "source": [
    "$\n",
    "Karena\\ -5.13 < -1.645,\\ sehingga\\ nilai\\ uji\\ terletak\\ di\\ daerah\\ kritis\\ maka\\ tolak\\ H_0\\ dan\\ terima\\ H_1 \\\\~\\\\\n",
    "Mencari\\ p-value\\ :\n",
    "$ "
   ]
  },
  {
   "cell_type": "code",
   "execution_count": 48,
   "metadata": {},
   "outputs": [
    {
     "name": "stdout",
     "output_type": "stream",
     "text": [
      "p-value = 0.0000001449544141\n"
     ]
    }
   ],
   "source": [
    "#mencari p-value, p-value = 1-P(Z < -5.13)\n",
    "pval5 = (1-stats.norm.cdf(abs(z5)))\n",
    "print (\"p-value =\", \"{:.16f}\".format(float(str(pval5))))"
   ]
  },
  {
   "cell_type": "markdown",
   "metadata": {},
   "source": [
    "$\n",
    "Karena\\ 0.0000001449544141 < 0.05,\\ maka \\ benar \\ untuk\\ menolak\\ H_0\\ dan\\ menerima\\ H_1\\\\~\\\\\n",
    "Boxplot\\ kolom\\ Keliling\\ :\n",
    "$"
   ]
  },
  {
   "cell_type": "code",
   "execution_count": 49,
   "metadata": {},
   "outputs": [
    {
     "data": {
      "text/plain": [
       "<AxesSubplot:>"
      ]
     },
     "execution_count": 49,
     "metadata": {},
     "output_type": "execute_result"
    },
    {
     "data": {
      "image/png": "[encoded data removed]",
      "text/plain": [
       "<Figure size 432x288 with 1 Axes>"
      ]
     },
     "metadata": {
      "needs_background": "light"
     },
     "output_type": "display_data"
    }
   ],
   "source": [
    "df.boxplot([\"Keliling\"])"
   ]
  },
  {
   "cell_type": "markdown",
   "metadata": {},
   "source": [
    "## Bagian 5\n",
    "\n",
    "### Tujuan\n",
    "Melakukan test hipotesis 2 sampel, dengan menuliskan 6 langkah testing dan menampilkan\n",
    "juga boxplotnya untuk kolom/bagian yang bersesuaian.\n",
    "1. Data kolom AreaBulatan dibagi 2 sama rata: bagian awal dan bagian akhir kolom. Benarkah rata-rata kedua bagian tersebut sama?\n",
    "2. Data kolom Kadar Air dibagi 2 sama rata: bagian awal dan bagian akhir kolom. Benarkah rata-rata bagian awal lebih besar dari pada bagian akhir sebesar 0.2?\n",
    "3. Rata-rata 20 baris pertama kolom Bulatan sama dengan 20 baris terakhirnya?\n",
    "4. Proporsi nilai bagian awal Ransum yang lebih dari 2, adalah lebih besar daripada, proporsi nilai yang sama di bagian akhir Ransum?\n",
    "5. Bagian awal kolom Diameter memiliki variansi yang sama dengan bagian akhirnya?\n",
    "\n",
    "### Cara pengerjaan\n",
    "1. Menentukan hipotesis null\n",
    "2. Menentukan hipotesis alternatif\n",
    "3. Menentukan tingkat signifikan (alpha = 0.05)\n",
    "4. Menentukan uji statistik dan daerah kritis\n",
    "5. Hitung nilai uji statistik\n",
    "6. Ambil keputusan\n",
    "\n",
    "<br>\n",
    "\n",
    "### Cochran's Sample Size Formula\n",
    "$$\n",
    "n = \\frac{z^{2}\\cdot p\\,(1-p)}{e^{2}} \\\\\n",
    "e = Allowable\\:error \\\\\n",
    "p = Standard\\:deviation \\\\\n",
    "z = z\\,score \\\\\n",
    "$$\n",
    "\n",
    "### Two Sample Z-Test for Means\n",
    "$$\n",
    "Z = \\frac{\\bar{X_{1}}-\\bar{X_{2}}-\\Delta}{\\sqrt{(\\sigma^{2}_{1}/n_{1})+(\\sigma^{2}_{2}/n_{2})}} \\\\\n",
    "n_{1,2} = Sample\\:size \\\\\n",
    "\\bar{X}_{1,2} = Sample\\:mean \\\\\n",
    "\\sigma^{2}_{1,2} = Variances \\\\\n",
    "\\Delta = Hypothesized\\:difference\\:between\\:population\\:means\n",
    "$$\n",
    "\n",
    "### F-Test to Compare Two Variances\n",
    "$$\n",
    "f = \\frac {\\sigma^{2}_{1}}{\\sigma^{2}_{2}} \\\\\n",
    "\\sigma^{2} = Variances\n",
    "$$\n",
    "\n",
    "### Two sample Z-Test for Proportions\n",
    "$$\n",
    "Z = \\frac{\\hat{p_{1}}-\\hat{p_{2}}}{\\sqrt{\\hat{p}(1-\\hat{p})(\\frac{1}{n_{1}}+\\frac{1}{n_{2}})}} \\\\\n",
    "\\hat{p}_{1,2} = Proportions\\:per\\:sample \\\\\n",
    "\\hat{p} = Overall\\:sample\\:proportions \\\\\n",
    "n = Sample\\:size\n",
    "$$"
   ]
  },
  {
   "cell_type": "code",
   "execution_count": 50,
   "metadata": {},
   "outputs": [],
   "source": [
    "# berdasarkan soal\n",
    "alpha = 0.05\n",
    "\n",
    "def nsamplesize(z,p,e):\n",
    "    return round((z**2 * (p*(1-p)))/e**2)\n",
    "\n",
    "def drawboxplot(data1,data2,title1,title2):\n",
    "    fig, axs = plt.subplots(1, 2)\n",
    "    axs[0].boxplot(data1)\n",
    "    axs[0].set_title(title1)\n",
    "    axs[1].boxplot(data2)\n",
    "    axs[1].set_title(title2)\n",
    "    \n",
    "    fig.subplots_adjust(left=0.08, right=0.98, bottom=0.05, top=0.9, hspace=0.4, wspace=0.3)\n",
    "    \n",
    "    plt.show()\n",
    "\n",
    "def samplettest(x1,x2,d,s1,s2,n1,n2):\n",
    "    return ((x1-x2-d)/math.sqrt(s1/n1 + s2/n2))\n",
    "\n",
    "def twotestmean(x1,x2,d,var1,var2,n1,n2):\n",
    "    return ((x1-x2)-d)/math.sqrt((var1/n1)+(var2/n2))\n",
    "\n",
    "def twotestproportion(p1,p2,p,n1,n2):\n",
    "    return (p1-p2)/math.sqrt((p*(1-p))*((1/n1)+(1/n2)))\n",
    "\n",
    "def ftest(var1,var2):\n",
    "    if (var1 < var2):\n",
    "        return (var2/var1)\n",
    "    else:\n",
    "        return (var1/var2)\n",
    "    \n",
    "def ztop(z):\n",
    "    return norm.cdf(z)\n",
    "\n",
    "def ptoz(p):\n",
    "    return norm.ppf(p)\n",
    "\n",
    "def printzpinfo(z,p):\n",
    "    print('==================')\n",
    "    print('nilai z        : ' + \"{:.15}\".format(z))\n",
    "    print('nilai p-value  : ' + \"{:.15}\".format(p))\n",
    "    print('==================')\n",
    "    \n",
    "def tessignifikan(pval,alpha):\n",
    "    print('==================')\n",
    "    print('Tes signifikan:')\n",
    "    if (pval < alpha):\n",
    "        print('Diketahui bahwa nilai p-value < alpha')\n",
    "        print('Hipotesis awal benar ditolak')\n",
    "    else:\n",
    "        print('Diketahui bahwa nilai p-value >= alpha')\n",
    "        print('Hipotesis awal tidak seharusnya ditolak')\n",
    "    print('==================')"
   ]
  },
  {
   "cell_type": "markdown",
   "metadata": {},
   "source": [
    "## Soal 5.1\n",
    "Data kolom AreaBulatan dibagi 2 sama rata: bagian awal dan bagian akhir kolom. Benarkah rata-rata kedua bagian tersebut sama?\n",
    "\n",
    "Soal ini menggunakan **Two Tailed Two Sample Mean Test with Z value** dan critical area berada pada kedua bagian kurva\n",
    "\n",
    "**Two tailed**: hipotesis mengacu pada \"tidak sama dengan\" sehingga perlu dibuktikan dari kedua sisi kanan dan kiri <br>\n",
    "**Two Sample**: Soal ini menguji 2 sampel, yaitu bagian awal dan akhir <br>\n",
    "**Mean Test**: Soal ini menguji nilai rata-rata dari sampel <br>\n",
    "**Z value**: jumlah sampel yang dites cukup banyak sehingga menggunakan Z value\n",
    "\n",
    "$$\n",
    "H_{0} :\\: \\mu_{awal}-\\mu_{akhir}=0 \\\\\n",
    "H_{a} :\\: \\mu_{awal}-\\mu_{akhir}\\neq0 \\\\\n",
    "\\:\\\\\n",
    "Z = \\frac{\\bar{X_{1}}-\\bar{X_{2}}-0}{\\sqrt{(\\sigma^{2}_{1}/n_{1})+(\\sigma^{2}_{2}/n_{2})}}\n",
    "$$\n",
    "\n",
    "$$ Pada\\:kasus\\:ini,\\:H_{0}\\:akan\\:ditolak\\:ketika\\:z < -z_{\\alpha/2}\\:atau\\:z > z_{\\alpha/2}$$\n",
    "\n",
    "\n",
    "### Cara pengerjaan\n",
    "1. Mencari nilai Z menggunakan two tailed two sample mean test with z value\n",
    "2. Mencari nilai p menggunakan z-table\n",
    "3. Membandingkan nilai z dan p dengan alpha"
   ]
  },
  {
   "cell_type": "code",
   "execution_count": 51,
   "metadata": {},
   "outputs": [
    {
     "name": "stdout",
     "output_type": "stream",
     "text": [
      "Area Bulatan\n"
     ]
    },
    {
     "data": {
      "image/png": "[encoded data removed]",
      "text/plain": [
       "<Figure size 432x288 with 2 Axes>"
      ]
     },
     "metadata": {
      "needs_background": "light"
     },
     "output_type": "display_data"
    },
    {
     "name": "stdout",
     "output_type": "stream",
     "text": [
      "\n",
      "==================\n",
      "nilai z        : 17.0130366484855\n",
      "nilai p-value  : 0.0\n",
      "==================\n",
      "Keputusan:\n",
      "Diketahui bahwa nilai Z < -Z alpha/2 atau Z > Z alpha/2\n",
      "Hipotesis null berhasil ditolak\n",
      "Kesimpulan: Rata-rata kedua bagian tidak sama\n",
      "==================\n",
      "Tes signifikan:\n",
      "Diketahui bahwa nilai p-value < alpha\n",
      "Hipotesis awal benar ditolak\n",
      "==================\n"
     ]
    }
   ],
   "source": [
    "df_1 = df.iloc[:250,:]['AreaBulatan']\n",
    "df_2 = df.iloc[250:,:]['AreaBulatan']\n",
    "print('Area Bulatan')\n",
    "drawboxplot(df_1,df_2,'Bagian atas','Bagian bawah')\n",
    "print()\n",
    "\n",
    "#two test mean\n",
    "z = twotestmean(df_1.mean(),df_2.mean(),0,df_1.var(),df_2.var(),df_1.count(),df_2.count())\n",
    "pval = 2*(1-ztop(abs(z)))\n",
    "z1 = (ptoz(1-alpha/2))\n",
    "\n",
    "printzpinfo(z,pval)\n",
    "print('Keputusan:')\n",
    "if (z < -z1 or z > z1):\n",
    "    print('Diketahui bahwa nilai Z < -Z alpha/2 atau Z > Z alpha/2')\n",
    "    print('Hipotesis null berhasil ditolak')\n",
    "    print('Kesimpulan: Rata-rata kedua bagian tidak sama')\n",
    "else:\n",
    "    print('Diketahui bahwa nilai Z >= -Z alpha/2 atau Z <= Z alpha/2')\n",
    "    print('Gagal menolak hipotesis null')\n",
    "    print('Kesimpulan: Rata-rata kedua bagian sama')\n",
    "tessignifikan(pval,alpha)"
   ]
  },
  {
   "cell_type": "markdown",
   "metadata": {},
   "source": [
    "## Soal 5.2\n",
    "Data kolom Kadar Air dibagi 2 sama rata: bagian awal dan bagian akhir kolom. Benarkah rata-rata bagian awal lebih besar dari pada bagian akhir sebesar 0.2?\n",
    "\n",
    "Soal ini menggunakan **Two Tailed Two Sample Mean Test with Z value** dan critical area berada pada kedua bagian kurva <br>\n",
    "Nilai 0.2 akan dimasukkan ke dalam rumus dengan hipotesis tetap terpaku pada selisih antara kedua rata-rata sampel (sama dengan) dan hipotesis alternatif tidak sama dengan\n",
    "\n",
    "**Two tailed**: hipotesis mengacu pada \"tidak sama dengan\" sehingga perlu dibuktikan dari kedua sisi kanan dan kiri <br>\n",
    "**Two Sample**: Soal ini menguji 2 sampel, yaitu bagian awal dan akhir <br>\n",
    "**Mean Test**: Soal ini menguji nilai rata-rata dari sampel <br>\n",
    "**Z value**: jumlah sampel yang dites cukup banyak sehingga menggunakan Z value\n",
    "\n",
    "$$\n",
    "H_{0} :\\: \\mu_{awal}-\\mu_{akhir}=0.2 \\\\\n",
    "H_{a} :\\: \\mu_{awal}-\\mu_{akhir}\\neq0.2\n",
    "\\:\\\\\n",
    "Z = \\frac{\\bar{X_{1}}-\\bar{X_{2}}-\\Delta}{\\sqrt{(\\sigma^{2}_{1}/n_{1})+(\\sigma^{2}_{2}/n_{2})}} \\\\\n",
    "\\Delta = 0.2\n",
    "$$\n",
    "\n",
    "$$ Pada\\:kasus\\:ini,\\:H_{0}\\:akan\\:ditolak\\:ketika\\:z < -z_{\\alpha/2}\\:atau\\:z > z_{\\alpha/2}$$\n",
    "\n",
    "### Cara pengerjaan\n",
    "1. Mencari nilai Z menggunakan two tailed two sample mean test with z value\n",
    "2. Mencari nilai p menggunakan z-table dari nilai z\n",
    "3. Membandingkan nilai z dan p dengan alpha"
   ]
  },
  {
   "cell_type": "code",
   "execution_count": 52,
   "metadata": {},
   "outputs": [
    {
     "name": "stdout",
     "output_type": "stream",
     "text": [
      "Kadar Air\n"
     ]
    },
    {
     "data": {
      "image/png": "[encoded data removed]",
      "text/plain": [
       "<Figure size 432x288 with 2 Axes>"
      ]
     },
     "metadata": {
      "needs_background": "light"
     },
     "output_type": "display_data"
    },
    {
     "name": "stdout",
     "output_type": "stream",
     "text": [
      "\n",
      "==================\n",
      "nilai z        : -26.9034442497449\n",
      "nilai p-value  : 0.0\n",
      "==================\n",
      "Keputusan:\n",
      "Diketahui bahwa nilai Z < -Z alpha/2 atau Z > Z alpha/2\n",
      "Hipotesis awal berhasil ditolak\n",
      "Kesimpulan: Rata-rata kedua bagian tidak sama\n",
      "==================\n",
      "Tes signifikan:\n",
      "Diketahui bahwa nilai p-value < alpha\n",
      "Hipotesis awal benar ditolak\n",
      "==================\n"
     ]
    }
   ],
   "source": [
    "df_3 = df.iloc[:250,:]['KadarAir']\n",
    "df_4 = df.iloc[250:,:]['KadarAir']\n",
    "print('Kadar Air')\n",
    "drawboxplot(df_3,df_4,'Bagian atas','Bagian bawah')\n",
    "print()\n",
    "\n",
    "# two test mean\n",
    "z = twotestmean(df_3.mean(),df_4.mean(),0.2,df_3.var(),df_4.var(),df_3.count(),df_4.count())\n",
    "pval = 2*(1-ztop(abs(z)))\n",
    "z1 = (ptoz(1-alpha/2))\n",
    "\n",
    "printzpinfo(z,pval)\n",
    "print('Keputusan:')\n",
    "if (z < -z1 or z > z1):\n",
    "    print('Diketahui bahwa nilai Z < -Z alpha/2 atau Z > Z alpha/2')\n",
    "    print('Hipotesis awal berhasil ditolak')\n",
    "    print('Kesimpulan: Rata-rata kedua bagian tidak sama')\n",
    "else:\n",
    "    print('Diketahui bahwa nilai Z >= -Z alpha/2 atau Z <= Z alpha/2')\n",
    "    print('Gagal menolak H0')\n",
    "    print('Kesimpulan: Rata-rata kedua bagian sama')\n",
    "tessignifikan(pval,alpha)"
   ]
  },
  {
   "cell_type": "markdown",
   "metadata": {},
   "source": [
    "## Soal 5.3\n",
    "Rata-rata 20 baris pertama kolom Bulatan sama dengan 20 baris terakhirnya?\n",
    "\n",
    "Soal ini menggunakan **Two Tailed Two Sample Mean Test with Z value** dan critical area berada pada kedua bagian kurva\n",
    "\n",
    "**Two tailed**: hipotesis mengacu pada \"tidak sama dengan\" sehingga perlu dibuktikan dari kedua sisi kanan dan kiri <br>\n",
    "**Two Sample**: Soal ini menguji 2 sampel, yaitu bagian awal dan akhir <br>\n",
    "**Mean Test**: Soal ini menguji nilai rata-rata dari sampel <br>\n",
    "**Z value**: jumlah sampel yang dites cukup banyak sehingga menggunakan Z value\n",
    "\n",
    "$$\n",
    "H_{0} :\\: \\mu_{awal}-\\mu_{akhir}=0 \\\\\n",
    "H_{a} :\\: \\mu_{awal}-\\mu_{akhir}\\neq0 \\\\\n",
    "\\:\\\\\n",
    "Z = \\frac{\\bar{X_{1}}-\\bar{X_{2}}-0}{\\sqrt{(\\sigma^{2}_{1}/n_{1})+(\\sigma^{2}_{2}/n_{2})}}\n",
    "$$\n",
    "\n",
    "$$ Pada\\:kasus\\:ini,\\:H_{0}\\:akan\\:ditolak\\:ketika\\:z < -z_{\\alpha/2}\\:atau\\:z > z_{\\alpha/2}$$\n",
    "\n",
    "### Cara pengerjaan\n",
    "1. Mencari nilai Z menggunakan two tailed two sample mean test with z value\n",
    "2. Mencari nilai p menggunakan z-table dari nilai z\n",
    "3. Membandingkan nilai z dan p dengan alpha"
   ]
  },
  {
   "cell_type": "code",
   "execution_count": 53,
   "metadata": {},
   "outputs": [
    {
     "name": "stdout",
     "output_type": "stream",
     "text": [
      "Bulatan\n"
     ]
    },
    {
     "data": {
      "image/png": "[encoded data removed]",
      "text/plain": [
       "<Figure size 432x288 with 2 Axes>"
      ]
     },
     "metadata": {
      "needs_background": "light"
     },
     "output_type": "display_data"
    },
    {
     "name": "stdout",
     "output_type": "stream",
     "text": [
      "\n",
      "==================\n",
      "nilai z        : -3.37922686331239\n",
      "nilai p-value  : 0.000726899974585526\n",
      "==================\n",
      "Keputusan:\n",
      "Diketahui bahwa nilai Z < -Z alpha/2 atau Z > Z alpha/2\n",
      "Hipotesis awal berhasil ditolak\n",
      "Kesimpulan: Rata-rata kedua bagian tidak sama\n",
      "==================\n",
      "Tes signifikan:\n",
      "Diketahui bahwa nilai p-value < alpha\n",
      "Hipotesis awal benar ditolak\n",
      "==================\n"
     ]
    }
   ],
   "source": [
    "df_5 = df.iloc[:20]['Bulatan']\n",
    "df_6 = df.iloc[-20:]['Bulatan']\n",
    "print('Bulatan')\n",
    "drawboxplot(df_5,df_6,'Bagian atas','Bagian bawah')\n",
    "print()\n",
    "\n",
    "z = twotestmean(df_5.mean(),df_6.mean(),0,df_5.var(),df_6.var(),df_5.count(),df_6.count())\n",
    "z1 = (ptoz(1-alpha/2))\n",
    "pval = 2*(1-ztop(abs(z)))\n",
    "\n",
    "printzpinfo(z,pval)\n",
    "print('Keputusan:')\n",
    "if (z < -z1 or z > z1):\n",
    "    print('Diketahui bahwa nilai Z < -Z alpha/2 atau Z > Z alpha/2')\n",
    "    print('Hipotesis awal berhasil ditolak')\n",
    "    print('Kesimpulan: Rata-rata kedua bagian tidak sama')\n",
    "else:\n",
    "    print('Diketahui bahwa nilai Z >= -Z alpha/2 atau Z <= Z alpha/2')\n",
    "    print('Gagal menolak H0')\n",
    "    print('Kesimpulan: Rata-rata kedua bagian sama')\n",
    "tessignifikan(pval,alpha)"
   ]
  },
  {
   "cell_type": "markdown",
   "metadata": {},
   "source": [
    "## Soal 5.4\n",
    "Proporsi nilai bagian awal Ransum yang lebih dari 2, adalah lebih besar daripada, proporsi nilai yang sama di bagian akhir Ransum?\n",
    "\n",
    "Soal ini menggunakan **One Tailed Two Sample Proportion Test with Z value** dan critical area berada pada bagian kanan kurva\n",
    "\n",
    "**One tailed**: hipotesis mengacu pada \"lebih besar dari\" sehingga hanya perlu dibuktikan pada satu sisi saja <br>\n",
    "**Two Sample**: Soal ini menguji 2 sampel, yaitu bagian awal dan akhir <br>\n",
    "**Proportion Test**: Soal ini menguji nilai proporsi dari sebuah sampel <br>\n",
    "**Z value**: jumlah sampel yang dites cukup banyak sehingga menggunakan Z value\n",
    "\n",
    "$$\n",
    "H_{0} :\\: \\hat{p}_{awal}-\\hat{p}_{akhir}=0 \\\\\n",
    "H_{a} :\\: \\hat{p}_{awal}-\\hat{p}_{akhir}>0 \\\\\n",
    "\\: \\\\\n",
    "Z = \\frac{\\hat{p_{1}}-\\hat{p_{2}}}{\\sqrt{\\hat{p}(1-\\hat{p})(\\frac{1}{n_{1}}+\\frac{1}{n_{2}})}} \\\\\n",
    "$$\n",
    "\n",
    "$$ Pada\\:kasus\\:ini,\\:H_{0}\\:akan\\:ditolak\\:ketika\\:z > z_{\\alpha} $$\n",
    "\n",
    "### Cara pengerjaan\n",
    "1. Mencari nilai Z menggunakan one tailed two sample proportion test\n",
    "2. Mencari nilai p menggunakan z-table dari nilai z\n",
    "3. Membandingkan nilai z dan p dengan alpha"
   ]
  },
  {
   "cell_type": "code",
   "execution_count": 54,
   "metadata": {},
   "outputs": [
    {
     "name": "stdout",
     "output_type": "stream",
     "text": [
      "Ransum\n"
     ]
    },
    {
     "data": {
      "image/png": "[encoded data removed]",
      "text/plain": [
       "<Figure size 432x288 with 2 Axes>"
      ]
     },
     "metadata": {
      "needs_background": "light"
     },
     "output_type": "display_data"
    },
    {
     "name": "stdout",
     "output_type": "stream",
     "text": [
      "\n",
      "p awal    : 0.996\n",
      "p akhir   : 0.464\n",
      "p overall : 0.73\n",
      "==================\n",
      "nilai z        : 13.3974864556102\n",
      "nilai p-value  : 0.0\n",
      "==================\n",
      "Diketahui bahwa nilai Z > Z alpha\n",
      "Hipotesis awal berhasil ditolak\n",
      "Kesimpulan: Proporsi awal lebih besar dari proporsi akhir\n",
      "==================\n",
      "Tes signifikan:\n",
      "Diketahui bahwa nilai p-value < alpha\n",
      "Hipotesis awal benar ditolak\n",
      "==================\n"
     ]
    }
   ],
   "source": [
    "df_7 = df.iloc[:250,:]['Ransum'][df.Ransum > 2]\n",
    "df_8 = df.iloc[250:,:]['Ransum'][df.Ransum > 2]\n",
    "print('Ransum')\n",
    "drawboxplot(df_7,df_8,'Bagian awal','Bagian akhir')\n",
    "print()\n",
    "\n",
    "#nilai yang dibutuhkan dalam rumus\n",
    "n1 = 250\n",
    "n2 = 250\n",
    "p1 = df_7.count()\n",
    "p2 = df_8.count()\n",
    "paw = p1/n1\n",
    "pak = p2/n2\n",
    "povr = (p1+p2)/(n1+n2)\n",
    "\n",
    "#two test proportion\n",
    "z = twotestproportion(paw,pak,povr,n1,n2)\n",
    "z1 = ptoz(1-alpha)\n",
    "pval = 1-ztop(z)\n",
    "\n",
    "print('p awal    : ' + str(paw))\n",
    "print('p akhir   : ' + str(pak))\n",
    "print('p overall : ' + str(povr))\n",
    "printzpinfo(z,pval)\n",
    "if (z > z1):\n",
    "    print('Diketahui bahwa nilai Z > Z alpha')\n",
    "    print('Hipotesis awal berhasil ditolak')\n",
    "    print('Kesimpulan: Proporsi awal lebih besar dari proporsi akhir')\n",
    "else:\n",
    "    print('Diketahui bahwa nilai Z <= Z alpha')\n",
    "    print('Gagal menolak H0')\n",
    "    print('Kesimpulan: Proporsi kedua bagian sama')\n",
    "tessignifikan(pval,alpha)"
   ]
  },
  {
   "cell_type": "markdown",
   "metadata": {},
   "source": [
    "## Soal 5.5\n",
    "Bagian awal kolom Diameter memiliki variansi yang sama dengan bagian akhirnya?\n",
    "\n",
    "Soal ini menggunakan **Two Tailed Two Sample F-Test** dan critical area berada pada kedua bagian kurva\n",
    "\n",
    "**Two tailed**: hipotesis mengacu pada \"tidak sama\" sehingga perlu dibuktikan dari kedua bagian sisi <br>\n",
    "**Two Sample**: Soal ini menguji 2 sampel, yaitu bagian awal dan akhir <br>\n",
    "**F Test**: Soal ini menguji nilai variansi dari sebuah sampel\n",
    "\n",
    "$$\n",
    "H_{0} :\\: \\sigma^{2}_{awal}-\\sigma^{2}_{akhir} = 0 \\\\\n",
    "H_{a} :\\: \\sigma^{2}_{awal}-\\sigma^{2}_{akhir} \\neq0\\\\\n",
    "\\:\\\\\n",
    "f = \\frac {\\sigma^{2}_{1}}{\\sigma^{2}_{2}}\\\\\n",
    "v_{1} = n_{1}-1 \\\\\n",
    "v_{2} = n_{2}-1 \\\\\n",
    "v = derajat\\:kebebasan\n",
    "$$\n",
    "\n",
    "$$ Pada\\:kasus\\:ini,\\:H_{0}\\:akan\\:ditolak\\:ketika\\:f < f_{1-\\alpha/2}(v1,v2)\\:atau\\:f > f_{\\alpha/2}(v1,v2)$$"
   ]
  },
  {
   "cell_type": "code",
   "execution_count": 55,
   "metadata": {},
   "outputs": [
    {
     "name": "stdout",
     "output_type": "stream",
     "text": [
      "Diameter\n"
     ]
    },
    {
     "data": {
      "image/png": "[encoded data removed]",
      "text/plain": [
       "<Figure size 432x288 with 2 Axes>"
      ]
     },
     "metadata": {
      "needs_background": "light"
     },
     "output_type": "display_data"
    },
    {
     "name": "stdout",
     "output_type": "stream",
     "text": [
      "\n",
      "f value                       : 1.083878022042188\n",
      "p value                       : 0.5255791840378787\n",
      "upper bound of critical value : 1.2827228078241388\n",
      "lower bound of critical value : 0.7795916576054988\n",
      "==================\n",
      "F-Test:\n",
      "Diketahui bahwa nilai f <= upper bound atau >= lower bound\n",
      "Gagal menolak H0\n",
      "Kesimpulan: Variansi kedua bagian sama\n"
     ]
    }
   ],
   "source": [
    "df_9 = df.iloc[:250,:]['Diameter']\n",
    "df_10 = df.iloc[250:,:]['Diameter']\n",
    "print('Diameter')\n",
    "drawboxplot(df_9,df_10,'Bagian awal','Bagian akhir')\n",
    "print()\n",
    "\n",
    "# degree of freedom\n",
    "degfr9 = df_9.count()-1\n",
    "degfr10 = df_10.count()-1\n",
    "\n",
    "# f test\n",
    "fval = ftest(df_9.var(),df_10.var())\n",
    "pval = 2*(1-fff.cdf(fval,degfr10,degfr9))\n",
    "ub = fff.ppf(q=1-alpha/2,dfn=degfr9,dfd=degfr10)\n",
    "lb = 1 / (fff.ppf(q=1-alpha/2,dfn=degfr9,dfd=degfr10))\n",
    "\n",
    "print('f value                       : ' + str(fval))\n",
    "print('p value                       : ' + str(pval))\n",
    "print('upper bound of critical value : ' + str(ub))\n",
    "print('lower bound of critical value : ' + str(lb))\n",
    "print('==================')\n",
    "print('F-Test:')\n",
    "if (fval > ub or fval < lb):\n",
    "    print('Diketahui bahwa nilai f > upper bound atau < lower bound')\n",
    "    print('Hipotesis awal berhasil ditolak')\n",
    "    print('Kesimpulan: Variansi kedua bagian berbeda')\n",
    "else:\n",
    "    print('Diketahui bahwa nilai f <= upper bound atau >= lower bound')\n",
    "    print('Gagal menolak H0')\n",
    "    print('Kesimpulan: Variansi kedua bagian sama')"
   ]
  },
  {
   "cell_type": "markdown",
   "metadata": {},
   "source": [
    "# Bagian 6\n",
    "\n",
    "Test korelasi: tentukan apakah setiap kolom non-target berkorelasi dengan kolom target,\n",
    "dengan menggambarkan juga scatter plot nya. Gunakan correlation test."
   ]
  },
  {
   "cell_type": "markdown",
   "metadata": {},
   "source": [
    "## Korelasi Kelas - Daerah"
   ]
  },
  {
   "cell_type": "code",
   "execution_count": 56,
   "metadata": {},
   "outputs": [
    {
     "name": "stdout",
     "output_type": "stream",
     "text": [
      "koefisien korelasi = -0.6027466517416653\n"
     ]
    }
   ],
   "source": [
    "print(\"koefisien korelasi =\", stats.pearsonr(df[\"Daerah\"], df[\"Kelas\"])[0])"
   ]
  },
  {
   "cell_type": "code",
   "execution_count": 57,
   "metadata": {},
   "outputs": [
    {
     "data": {
      "image/png": "[encoded data removed]",
      "text/plain": [
       "<Figure size 432x288 with 1 Axes>"
      ]
     },
     "metadata": {
      "needs_background": "light"
     },
     "output_type": "display_data"
    }
   ],
   "source": [
    "plt.scatter(df[\"Daerah\"], df[\"Kelas\"])\n",
    "plt.show()"
   ]
  },
  {
   "cell_type": "markdown",
   "metadata": {},
   "source": [
    "Karena koefisien relasi bernilai negatif maka, hubungan antara kolom Daerah dengan kolom Kelas cenderung berbanding terbalik dengan kekuatan korelasi yang kuat"
   ]
  },
  {
   "cell_type": "markdown",
   "metadata": {},
   "source": [
    "## Korelasi Kelas - SumbuUtama"
   ]
  },
  {
   "cell_type": "code",
   "execution_count": 58,
   "metadata": {},
   "outputs": [
    {
     "name": "stdout",
     "output_type": "stream",
     "text": [
      "koefisien korelasi = -0.7130906104204586\n"
     ]
    }
   ],
   "source": [
    "print(\"koefisien korelasi =\", stats.pearsonr(df[\"SumbuUtama\"], df[\"Kelas\"])[0])"
   ]
  },
  {
   "cell_type": "code",
   "execution_count": 59,
   "metadata": {},
   "outputs": [
    {
     "data": {
      "image/png": "[encoded data removed]",
      "text/plain": [
       "<Figure size 432x288 with 1 Axes>"
      ]
     },
     "metadata": {
      "needs_background": "light"
     },
     "output_type": "display_data"
    }
   ],
   "source": [
    "plt.scatter(df[\"SumbuUtama\"], df[\"Kelas\"])\n",
    "plt.show()"
   ]
  },
  {
   "cell_type": "markdown",
   "metadata": {},
   "source": [
    "Karena koefisien relasi bernilai negatif maka, hubungan antara kolom SumbuUtama dengan kolom Kelas cenderung berbanding terbalik dengan kekuatan korelasi yang kuat"
   ]
  },
  {
   "cell_type": "markdown",
   "metadata": {},
   "source": [
    "## Korelasi Kelas - SumbuKecil"
   ]
  },
  {
   "cell_type": "code",
   "execution_count": 60,
   "metadata": {},
   "outputs": [
    {
     "name": "stdout",
     "output_type": "stream",
     "text": [
      "koefisien korelasi = -0.1529751733553502\n"
     ]
    }
   ],
   "source": [
    "print(\"koefisien korelasi =\", stats.pearsonr(df[\"SumbuKecil\"], df[\"Kelas\"])[0])"
   ]
  },
  {
   "cell_type": "code",
   "execution_count": 61,
   "metadata": {},
   "outputs": [
    {
     "data": {
      "image/png": "[encoded data removed]",
      "text/plain": [
       "<Figure size 432x288 with 1 Axes>"
      ]
     },
     "metadata": {
      "needs_background": "light"
     },
     "output_type": "display_data"
    }
   ],
   "source": [
    "plt.scatter(df[\"SumbuKecil\"], df[\"Kelas\"])\n",
    "plt.show()"
   ]
  },
  {
   "cell_type": "markdown",
   "metadata": {},
   "source": [
    "Karena koefisien relasi bernilai negatif maka, hubungan antara kolom SumbuKecil dengan kolom Kelas cenderung berbanding terbalik dengan kekuatan korelasi yang lemah"
   ]
  },
  {
   "cell_type": "markdown",
   "metadata": {},
   "source": [
    "## Korelasi Kelas - Keunikan"
   ]
  },
  {
   "cell_type": "code",
   "execution_count": 62,
   "metadata": {},
   "outputs": [
    {
     "name": "stdout",
     "output_type": "stream",
     "text": [
      "koefisien korelasi = -0.7304563686511918\n"
     ]
    }
   ],
   "source": [
    "print(\"koefisien korelasi =\", stats.pearsonr(df[\"Keunikan\"], df[\"Kelas\"])[0])"
   ]
  },
  {
   "cell_type": "code",
   "execution_count": 63,
   "metadata": {},
   "outputs": [
    {
     "data": {
      "image/png": "[encoded data removed]",
      "text/plain": [
       "<Figure size 432x288 with 1 Axes>"
      ]
     },
     "metadata": {
      "needs_background": "light"
     },
     "output_type": "display_data"
    }
   ],
   "source": [
    "plt.scatter(df[\"Keunikan\"], df[\"Kelas\"])\n",
    "plt.show()"
   ]
  },
  {
   "cell_type": "markdown",
   "metadata": {},
   "source": [
    "Karena koefisien relasi bernilai negatif maka, hubungan antara kolom Keunikah dengan kolom Kelas cenderung berbanding terbalik dengan kekuatan korelasi yang kuat"
   ]
  },
  {
   "cell_type": "markdown",
   "metadata": {},
   "source": [
    "## Korelasi Kelas - AreaBulatan"
   ]
  },
  {
   "cell_type": "code",
   "execution_count": 64,
   "metadata": {},
   "outputs": [
    {
     "name": "stdout",
     "output_type": "stream",
     "text": [
      "koefisien korelasi = -0.6073125434153747\n"
     ]
    }
   ],
   "source": [
    "print(\"koefisien korelasi =\", stats.pearsonr(df[\"AreaBulatan\"], df[\"Kelas\"])[0])"
   ]
  },
  {
   "cell_type": "code",
   "execution_count": 65,
   "metadata": {},
   "outputs": [
    {
     "data": {
      "image/png": "[encoded data removed]",
      "text/plain": [
       "<Figure size 432x288 with 1 Axes>"
      ]
     },
     "metadata": {
      "needs_background": "light"
     },
     "output_type": "display_data"
    }
   ],
   "source": [
    "plt.scatter(df[\"AreaBulatan\"], df[\"Kelas\"])\n",
    "plt.show()"
   ]
  },
  {
   "cell_type": "markdown",
   "metadata": {},
   "source": [
    "Karena koefisien relasi bernilai negatif maka, hubungan antara kolom AreaBulatan dengan kolom Kelas cenderung berbanding terbalik dengan kekuatan korelasi yang kuat"
   ]
  },
  {
   "cell_type": "markdown",
   "metadata": {},
   "source": [
    "## Korelasi Kelas - Diameter"
   ]
  },
  {
   "cell_type": "code",
   "execution_count": 66,
   "metadata": {},
   "outputs": [
    {
     "name": "stdout",
     "output_type": "stream",
     "text": [
      "koefisien korelasi = -0.6025356896618808\n"
     ]
    }
   ],
   "source": [
    "print(\"koefisien korelasi =\", stats.pearsonr(df[\"Diameter\"], df[\"Kelas\"])[0])"
   ]
  },
  {
   "cell_type": "code",
   "execution_count": 67,
   "metadata": {},
   "outputs": [
    {
     "data": {
      "image/png": "[encoded data removed]",
      "text/plain": [
       "<Figure size 432x288 with 1 Axes>"
      ]
     },
     "metadata": {
      "needs_background": "light"
     },
     "output_type": "display_data"
    }
   ],
   "source": [
    "plt.scatter(df[\"Diameter\"], df[\"Kelas\"])\n",
    "plt.show()"
   ]
  },
  {
   "cell_type": "markdown",
   "metadata": {},
   "source": [
    "Karena koefisien relasi bernilai negatif maka, hubungan antara kolom Diameter dengan kolom Kelas cenderung berbanding terbalik dengan kekuatan korelasi yang kuat"
   ]
  },
  {
   "cell_type": "markdown",
   "metadata": {},
   "source": [
    "## Korelasi Kelas - KadarAir"
   ]
  },
  {
   "cell_type": "code",
   "execution_count": 68,
   "metadata": {},
   "outputs": [
    {
     "name": "stdout",
     "output_type": "stream",
     "text": [
      "koefisien korelasi = 0.13434422605727633\n"
     ]
    }
   ],
   "source": [
    "print(\"koefisien korelasi =\", stats.pearsonr(df[\"KadarAir\"], df[\"Kelas\"])[0])"
   ]
  },
  {
   "cell_type": "code",
   "execution_count": 69,
   "metadata": {},
   "outputs": [
    {
     "data": {
      "image/png": "[encoded data removed]",
      "text/plain": [
       "<Figure size 432x288 with 1 Axes>"
      ]
     },
     "metadata": {
      "needs_background": "light"
     },
     "output_type": "display_data"
    }
   ],
   "source": [
    "plt.scatter(df[\"KadarAir\"], df[\"Kelas\"])\n",
    "plt.show()"
   ]
  },
  {
   "cell_type": "markdown",
   "metadata": {},
   "source": [
    "Karena koefisien relasi bernilai positif maka, hubungan antara kolom Daerah dengan kolom Kelas cenderung berbanding lurus dengan kekuatan korelasi yang lemah"
   ]
  },
  {
   "cell_type": "markdown",
   "metadata": {},
   "source": [
    "## Korelasi Kelas - Keliling"
   ]
  },
  {
   "cell_type": "code",
   "execution_count": 70,
   "metadata": {},
   "outputs": [
    {
     "name": "stdout",
     "output_type": "stream",
     "text": [
      "koefisien korelasi = -0.634860745475685\n"
     ]
    }
   ],
   "source": [
    "print(\"koefisien korelasi =\", stats.pearsonr(df[\"Keliling\"], df[\"Kelas\"])[0])"
   ]
  },
  {
   "cell_type": "code",
   "execution_count": 71,
   "metadata": {},
   "outputs": [
    {
     "data": {
      "image/png": "[encoded data removed]",
      "text/plain": [
       "<Figure size 432x288 with 1 Axes>"
      ]
     },
     "metadata": {
      "needs_background": "light"
     },
     "output_type": "display_data"
    }
   ],
   "source": [
    "plt.scatter(df[\"Keliling\"], df[\"Kelas\"])\n",
    "plt.show()"
   ]
  },
  {
   "cell_type": "markdown",
   "metadata": {},
   "source": [
    "Karena koefisien relasi bernilai negatif maka, hubungan antara kolom Keliling dengan kolom Kelas cenderung berbanding terbalik dengan kekuatan korelasi yang kuat"
   ]
  },
  {
   "cell_type": "markdown",
   "metadata": {},
   "source": [
    "## Korelasi Kelas - Bulatan"
   ]
  },
  {
   "cell_type": "code",
   "execution_count": 72,
   "metadata": {},
   "outputs": [
    {
     "name": "stdout",
     "output_type": "stream",
     "text": [
      "koefisien korelasi = 0.5450045317240073\n"
     ]
    }
   ],
   "source": [
    "print(\"koefisien korelasi =\", stats.pearsonr(df[\"Bulatan\"], df[\"Kelas\"])[0])"
   ]
  },
  {
   "cell_type": "code",
   "execution_count": 73,
   "metadata": {},
   "outputs": [
    {
     "data": {
      "image/png": "[encoded data removed]",
      "text/plain": [
       "<Figure size 432x288 with 1 Axes>"
      ]
     },
     "metadata": {
      "needs_background": "light"
     },
     "output_type": "display_data"
    }
   ],
   "source": [
    "plt.scatter(df[\"Bulatan\"], df[\"Kelas\"])\n",
    "plt.show()"
   ]
  },
  {
   "cell_type": "markdown",
   "metadata": {},
   "source": [
    "Karena koefisien relasi bernilai positif maka, hubungan antara kolom Bulatan dengan kolom Kelas cenderung berbanding lurus dengan kekuatan korelasi yang kuat"
   ]
  },
  {
   "cell_type": "markdown",
   "metadata": {},
   "source": [
    "## Korelasi Kelas - Ransum"
   ]
  },
  {
   "cell_type": "code",
   "execution_count": 74,
   "metadata": {},
   "outputs": [
    {
     "name": "stdout",
     "output_type": "stream",
     "text": [
      "koefisien korelasi = -0.8399038681287483\n"
     ]
    }
   ],
   "source": [
    "print(\"koefisien korelasi =\", stats.pearsonr(df[\"Ransum\"], df[\"Kelas\"])[0])"
   ]
  },
  {
   "cell_type": "code",
   "execution_count": 75,
   "metadata": {},
   "outputs": [
    {
     "data": {
      "image/png": "[encoded data removed]",
      "text/plain": [
       "<Figure size 432x288 with 1 Axes>"
      ]
     },
     "metadata": {
      "needs_background": "light"
     },
     "output_type": "display_data"
    }
   ],
   "source": [
    "plt.scatter(df[\"Ransum\"], df[\"Kelas\"])\n",
    "plt.show()"
   ]
  },
  {
   "cell_type": "markdown",
   "metadata": {},
   "source": [
    "Karena koefisien relasi bernilai negatif maka, hubungan antara kolom Ransum dengan kolom Kelas cenderung berbanding terbalik dengan kekuatan korelasi yang kuat"
   ]
  }
 ],
 "metadata": {
  "colab": {
   "collapsed_sections": [],
   "name": "k03-t1-if2220-13519163.ipynb",
   "provenance": [],
   "toc_visible": true
  },
  "kernelspec": {
   "display_name": "Python 3",
   "language": "python",
   "name": "python3"
  },
  "language_info": {
   "codemirror_mode": {
    "name": "ipython",
    "version": 3
   },
   "file_extension": ".py",
   "mimetype": "text/x-python",
   "name": "python",
   "nbconvert_exporter": "python",
   "pygments_lexer": "ipython3",
   "version": "3.7.6"
  }
 },
 "nbformat": 4,
 "nbformat_minor": 1
}
